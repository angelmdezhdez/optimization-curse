{
  "cells": [
    {
      "cell_type": "markdown",
      "metadata": {
        "id": "DA-enuWmXEoU"
      },
      "source": [
        "# Curso de Optimización I\n",
        "## Tarea 7\n",
        "\n",
        "| Descripción:                         | Fechas               |\n",
        "|--------------------------------------|----------------------|\n",
        "| Fecha de publicación del documento:  | **Abril 15, 2024**   |\n",
        "| Fecha límite de entrega de la tarea: | **Abril 23, 2024**   |\n",
        "\n",
        "\n",
        "### Indicaciones\n",
        "\n",
        "- Envie el notebook con los códigos y las pruebas realizadas de cada ejercicio.\n",
        "- Si se requiren algunos scripts adicionales para poder reproducir las pruebas,\n",
        "  agreguelos en un ZIP junto con el notebook.\n",
        "- Genere un PDF del notebook y envielo por separado."
      ]
    },
    {
      "cell_type": "markdown",
      "metadata": {
        "id": "cV4rZaGXXEoZ"
      },
      "source": [
        "---\n",
        "\n",
        "## Ejercicio 1 (4 puntos)\n",
        "\n",
        "Programar el método de Newton truncado descrito en el Algoritmo 1 y 2 de la Clase 20.\n",
        "   \n",
        "1. Programar la función que implementa el Algoritmo 1, que calcula una aproximación\n",
        "   de la solución del sistema de Newton.\n",
        "- Haga que la función devuelva la dirección $\\mathbf{p}_k$ y el número de iteraciones realizadas.\n",
        "\n",
        "2. Programar la función que implementa el Algoritmo 2.\n",
        "- Use el algoritmo de backtracking con la condición de descenso suficiente para\n",
        "  calcular el tamaño de paso $\\alpha_k$.\n",
        "- Defina la variable binaria $res$ de modo que $True$ si se cumple la condición de salida\n",
        "  $\\|\\mathbf{g}_k\\|<\\tau$ y $False$ si termina por iteraciones.\n",
        "- Calcule el promedio de las iteraciones realizadas por el Algoritmo 1\n",
        "- Haga que la función devuelva $\\mathbf{x}_k, \\mathbf{g}_k, k, res$ y el\n",
        "  promedio de la iteraciones realizadas por el Algoritmo 1.\n",
        "\n",
        "3. Pruebe el algoritmo para minimizar las siguientes funciones usando los parámetros\n",
        "   $N=5000$, $\\tau = \\sqrt{n}\\epsilon_m^{1/3}$, donde $n$ es la dimensión\n",
        "   de la variable $\\mathbf{x}$ y $\\epsilon_m$ es el épsilon máquina.\n",
        "   Para backtracking use $\\rho=0.5$, $c_1=0.001$ y el número máximo de iteraciones $N_b=500$.\n",
        "   \n",
        "   En cada caso imprima los siguientes datos:\n",
        "   \n",
        "- la dimensión $n$,\n",
        "- $f(\\mathbf{x}_0)$,\n",
        "- el  número $k$ de iteraciones realizadas,\n",
        "- $f(\\mathbf{x}_k)$,\n",
        "- las primeras y últimas 4 entradas del punto $\\mathbf{x}_k$ que devuelve el algoritmo,\n",
        "- la norma del vector gradiente $\\mathbf{g}_k$,\n",
        "- el promedio del número de iteraciones realizadas por el Algoritmo 1.\n",
        "- la variable $res$ para saber si el algoritmo puedo converger.\n",
        "  \n",
        "\n",
        "\n",
        "**Función de cuadrática 1:** Para $\\mathbf{x}=(x_1,x_2, ..., x_n)$\n",
        "\n",
        "- $f(\\mathbf{x}) = \\frac{1}{2} \\mathbf{x}^\\top\\mathbf{A}_1\\mathbf{x} - \\mathbf{b}_1^\\top\\mathbf{x}$,\n",
        "  donde $\\mathbf{A}_1$ y $\\mathbf{b}_1$ están definidas por\n",
        "  \n",
        "\n",
        "$$ \\mathbf{A}_1 = n\\mathbf{I} + \\mathbf{1} =\n",
        "\\left[\\begin{array}{llll} n      & 0      & \\cdots & 0 \\\\\n",
        "                       0      & n      & \\cdots & 0 \\\\\n",
        "                       \\vdots & \\vdots & \\ddots & \\vdots \\\\\n",
        "                       0      & 0      & \\cdots & n \\end{array}\\right]\n",
        "+ \\left[\\begin{array}{llll} 1    & 1      & \\cdots & 1 \\\\\n",
        "                       1      & 1      & \\cdots & 1 \\\\\n",
        "                       \\vdots & \\vdots & \\ddots & \\vdots \\\\\n",
        "                       1      & 1      & \\cdots & 1 \\end{array}\\right],  \\qquad\n",
        "\\mathbf{b}_1 = \\left[\\begin{array}{l} 1 \\\\ 1 \\\\ \\vdots \\\\ 1 \\end{array}\\right], $$\n",
        "\n",
        "donde $\\mathbf{I}$ es la matriz identidad y $\\mathbf{1}$ es la matriz llena de 1's,\n",
        "ambas de tamaño $n$, usando los puntos iniciales   \n",
        "- $\\mathbf{x}_0 = (0,...,0)\\in \\mathbb{R}^{10}$\n",
        "- $\\mathbf{x}_0 = (0,...,0)\\in \\mathbb{R}^{100}$\n",
        "- $\\mathbf{x}_0 = (0,...,0)\\in \\mathbb{R}^{1000}$\n",
        "\n",
        "---\n",
        "\n",
        "**Función de cuadrática 2:** Para $\\mathbf{x}=(x_1,x_2, ..., x_n)$\n",
        "\n",
        "- $f(\\mathbf{x}) = \\frac{1}{2} \\mathbf{x}^\\top\\mathbf{A}_2\\mathbf{x} - \\mathbf{b}_2^\\top\\mathbf{x}$,\n",
        "  donde $\\mathbf{A}_2= [a_{ij}]$ y $\\mathbf{b}_2$ están definidas por\n",
        "  \n",
        "$$ a_{ij} = exp\\left(-0.25(i-j)^2 \\right),  \\qquad\n",
        "\\mathbf{b}_2 = \\left[\\begin{array}{l} 1 \\\\ 1 \\\\ \\vdots \\\\ 1 \\end{array}\\right] $$\n",
        "\n",
        "usando los puntos iniciales:\n",
        "- $\\mathbf{x}_0 = (0,...,0)\\in \\mathbb{R}^{10}$\n",
        "- $\\mathbf{x}_0 = (0,...,0)\\in \\mathbb{R}^{100}$\n",
        "- $\\mathbf{x}_0 = (0,...,0)\\in \\mathbb{R}^{1000}$\n",
        "\n",
        "---\n",
        "\n",
        "**Función de Beale :** Para $\\mathbf{x}=(x_1,x_2)$\n",
        "\n",
        "$$f(\\mathbf{x}) = (1.5-x_1 + x_1x_2)^2 + (2.25 - x_1 + x_1x_2^2)^2 + (2.625 - x_1 + x_1x_2^3)^2.$$\n",
        "- $\\mathbf{x}_0 = (2,3)$  \n",
        "   \n",
        "---\n",
        "\n",
        "**Función de Himmelblau:** Para $\\mathbf{x}=(x_1,x_2)$\n",
        "\n",
        "$$f(\\mathbf{x}) = (x_1^2 + x_2 - 11)^2 + (x_1 + x_2^2 - 7)^2. $$\n",
        "- $\\mathbf{x}_0 = (2,4)$\n",
        "\n",
        "---\n",
        "\n",
        "**Función de Rosenbrock:** Para $\\mathbf{x}=(x_1,x_2, ..., x_n)$\n",
        "\n",
        "$$ f(\\mathbf{x}) = \\sum_{i=1}^{n-1} \\left[100(x_{i+1} - x_i^2)^2 + (1-x_i)^2 \\right]\n",
        "\\quad n\\geq 2.$$\n",
        "- $\\mathbf{x}_0 = (-1.2, 1.0)\\in \\mathbb{R}^{2}$  \n",
        "- $\\mathbf{x}_0 = (-1.2, 1.0, ..., -1.2, 1.0) \\in \\mathbb{R}^{20}$  \n",
        "- $\\mathbf{x}_0 = (-1.2, 1.0, ..., -1.2, 1.0) \\in \\mathbb{R}^{40}$\n",
        "\n",
        "### Solución:"
      ]
    },
    {
      "cell_type": "code",
      "execution_count": null,
      "metadata": {
        "id": "2JAKvkujYVM4"
      },
      "outputs": [],
      "source": [
        "# importamos librerías\n",
        "\n",
        "import numpy as np"
      ]
    },
    {
      "cell_type": "code",
      "execution_count": null,
      "metadata": {
        "id": "3PXzb9GXBqpp"
      },
      "outputs": [],
      "source": [
        "def backtracking(a0, r, c1, xk, f, df, pk, maxIter):\n",
        "  a=a0\n",
        "  for i in range(maxIter):\n",
        "    # condicion de descenso suficiente\n",
        "    if f(xk+a*pk)<= f(xk) + c1*a*(np.dot(df(xk), pk)):\n",
        "        return a, i+1, True\n",
        "    a=r*a\n",
        "  return a, maxIter, False"
      ]
    },
    {
      "cell_type": "code",
      "execution_count": null,
      "metadata": {
        "id": "qqkauB86YbLc"
      },
      "outputs": [],
      "source": [
        "# creamos la funcion de gradiente conjugado para el sistema de Newton\n",
        "\n",
        "def grad_conj_newton(Hk, gk, n, tol):\n",
        "  zk = np.zeros(n)\n",
        "  rk = gk\n",
        "  dk = -rk\n",
        "  for j in range(n):\n",
        "    aux1 = dk.T@(Hk@dk)\n",
        "    if aux1 <= 0:\n",
        "      if j==0:\n",
        "        return -gk, 0\n",
        "      else:\n",
        "        return zk, j+1\n",
        "    aux2 = np.dot(rk, rk)\n",
        "    ak = aux2/aux1\n",
        "    zk = zk + ak*dk\n",
        "    rk = rk + ak*(Hk@dk)\n",
        "    aux3 = np.dot(rk,rk)\n",
        "    bk = aux3/aux2\n",
        "    dk = -rk + bk*dk\n",
        "    if np.sqrt(aux3) < tol:\n",
        "      return zk, j+1\n",
        "  return zk, n\n",
        "\n",
        "def newton_truncated(f, grad, hess, x0, tol, maxIter1, a0, r, c1, maxIter2):\n",
        "  xk = x0.copy()\n",
        "  dim = len(xk)\n",
        "  iters = []\n",
        "  for k in range(maxIter1):\n",
        "    gk = grad(xk)\n",
        "    aux1 = np.linalg.norm(gk)\n",
        "    if aux1 < tol:\n",
        "      return xk, dim, f(xk), aux1, iters, k+1, True\n",
        "    Hk = hess(xk)\n",
        "    t = aux1*(min(0.5, np.sqrt(aux1)))\n",
        "    aux2 = grad_conj_newton(Hk, gk, dim, t)\n",
        "    if aux2[1] == dim:\n",
        "      print(\"Gradiente conjugado está realizando todas las iteraciones\")\n",
        "    iters.append(aux2[1])\n",
        "    pk = aux2[0]\n",
        "    aux3 = backtracking(a0, r, c1, xk, f, grad, pk, maxIter2)\n",
        "    if aux3[-1] == False:\n",
        "      print(\"backtracking está realizando todas las iteraciones\")\n",
        "    ak = aux3[0]\n",
        "    xk = xk + ak*pk\n",
        "  return xk, dim, f(xk), aux1, iters, maxIter1, False"
      ]
    },
    {
      "cell_type": "code",
      "execution_count": null,
      "metadata": {
        "id": "q4YzmciuBqpq"
      },
      "outputs": [],
      "source": [
        "def gen_matrix1(N):\n",
        "    A = np.ones([N,N]) + N*np.eye(N)\n",
        "    b = np.ones(N)\n",
        "    return A, b\n",
        "\n",
        "def gen_matrix2(N):\n",
        "    A = np.zeros([N,N])\n",
        "    for i in range(N):\n",
        "        for j in  range(N):\n",
        "            A[i][j]=np.exp(-0.25*((i-j)**2))\n",
        "    b = np.ones(N)\n",
        "    return A, b\n",
        "\n",
        "eps = np.finfo(float).eps\n",
        "n = [10, 100, 1000]"
      ]
    },
    {
      "cell_type": "code",
      "execution_count": null,
      "metadata": {
        "id": "7t_tl6YABqpq"
      },
      "outputs": [],
      "source": [
        "# funciones\n",
        "def quadratic(x, A, b):\n",
        "    return (x.T@(A@x))/2.0 - np.dot(b, x)\n",
        "\n",
        "def Grad_quadratic(x, A, b):\n",
        "    return A@x - b\n",
        "\n",
        "def himmelblau(x):\n",
        "  return (x[0]**2+x[1]-11)**2 + (x[0]+x[1]**2-7)**2\n",
        "\n",
        "def Grad_himmelblau(x):\n",
        "  d1=4*x[0]**3 + 4*x[0]*x[1] - 42*x[0] + 2*x[1]**2 - 14\n",
        "  d2=4*x[1]**3 + 4*x[0]*x[1] + 2*x[0]**2 - 26*x[1] - 22\n",
        "  return np.array([d1,d2])\n",
        "\n",
        "def beale(x):\n",
        "  return (1.5-x[0]+x[1]*x[0])**2 + (2.25-x[0]+x[0]*x[1]**2)**2 + (2.625-x[0]+x[0]*x[1]**3)**2\n",
        "\n",
        "def Grad_beale(x):\n",
        "  d1=2*(x[1]-1)*(1.5-x[0]+x[1]*x[0])+2*(x[1]**2-1)*(2.25-x[0]+x[0]*x[1]**2)+2*(x[1]**3-1)*(2.625-x[0]+x[0]*x[1]**3)\n",
        "  d2=2*(x[0])*(1.5-x[0]+x[1]*x[0])+4*(x[0]*x[1])*(2.25-x[0]+x[0]*x[1]**2)+6*(x[0]*x[1]**2)*(2.625-x[0]+x[0]*x[1]**3)\n",
        "  return np.array([d1, d2])\n",
        "\n",
        "def rosenbrock(x):\n",
        "  f=0\n",
        "  n=x.shape[0]\n",
        "  for i in range(n-1):\n",
        "    f+=100*(x[i+1]-x[i]**2)**2 + (1-x[i])**2\n",
        "  return f\n",
        "\n",
        "def Grad_rosenbrock(x):\n",
        "  n=x.shape[0]\n",
        "  grad=np.zeros(n)\n",
        "  grad[0]=-2*(1-x[0])-400*x[0]*(x[1]-x[0]**2)\n",
        "  grad[-1]=200*(x[-1]-x[-2]**2)\n",
        "  for i in range(1,n-1):\n",
        "    grad[i]=200*(x[i]-x[i-1]**2-2*x[i]*x[i+1]+2*x[i]**3) -2*(1-x[i])\n",
        "  return grad\n",
        "\n",
        "#definimos las funciones para las hessianas\n",
        "def Hes_quadratic(x, A, b):\n",
        "  return A\n",
        "\n",
        "def Hes_himmelbleau(x):\n",
        "  d1=12*(x[0]**2) +4*x[1] -42\n",
        "  d2=4*(x[0]+x[1])\n",
        "  d3=4*x[0] +12*(x[1]**2) -26\n",
        "  return np.array([[d1, d2], [d2, d3]])\n",
        "\n",
        "def Hes_beale(x):\n",
        "  d1=2*(x[1]**6 +x[1]**4 -2*x[1]**3 -x[1]**2 -2*x[1] +3)\n",
        "  d2=4*x[0]*(3*(x[1]**5) +2*(x[1]**3) -3*(x[1]**2) -x[1] -1) +15.75*(x[1]**2) +9*x[1] +3\n",
        "  d3=6*x[0]*(5*x[0]*(x[1]**4 +0.4*(x[1]**2) -0.4*x[1] -0.066666) +5.25*x[1] +1.5)\n",
        "  return np.array([[d1, d2], [d2, d3]])\n",
        "\n",
        "def Hes_rosenbrook(x):\n",
        "  n=len(x)\n",
        "  m=np.zeros([n,n])\n",
        "  m[0][0]=1200*(x[0])**2 - 400*(x[1]) +2\n",
        "  m[n-1][n-1]=200\n",
        "  m[0][1]=m[1][0]=-400*x[0]\n",
        "  m[n-1][n-2]=m[n-2][n-1]=-400*x[n-2]\n",
        "  for i in range(1,n-1):\n",
        "    m[i][i]=200*(6*(x[i]**2)-2*(x[i+1])+1)+2\n",
        "    m[i][i-1]=m[i-1][i]=-400*(x[i-1])\n",
        "    m[i][i+1]=m[i+1][i]=-400*(x[i])\n",
        "  return m"
      ]
    },
    {
      "cell_type": "code",
      "execution_count": null,
      "metadata": {
        "id": "JHg9P6AxBqpq"
      },
      "outputs": [],
      "source": [
        "def solution1(sol):\n",
        "    print(f\"Dimension: {sol[1]}\")\n",
        "    print(f\"¿Terminó por criterio de paro?: {sol[-1]}\")\n",
        "    print(f\"Número de iteraciones realizadas: {sol[-2]}\")\n",
        "    print(\"La solución alcanzada es: \",sol[0][:4],\"...\", sol[0][-4:])\n",
        "    print(f\"f(xk)={sol[2]}\")\n",
        "    print(f\"||Grad_f(xk)||={sol[3]}\")\n",
        "    print(\"Promedio de iteraciones realizadas en GC: \", np.mean(sol[4]))"
      ]
    },
    {
      "cell_type": "code",
      "execution_count": null,
      "metadata": {
        "id": "Sd2kxL2VBqpq"
      },
      "outputs": [],
      "source": [
        "# definimos\n",
        "maxIter = 5000\n",
        "rho = 0.5\n",
        "c1 = 0.001\n",
        "maxIter2 = 500\n",
        "a0 = 1"
      ]
    },
    {
      "cell_type": "code",
      "execution_count": null,
      "metadata": {
        "colab": {
          "base_uri": "https://localhost:8080/"
        },
        "id": "UJtBpYwxBqpq",
        "outputId": "158e3fd9-4b51-45f8-c7d2-b968b62c810c"
      },
      "outputs": [
        {
          "name": "stdout",
          "output_type": "stream",
          "text": [
            "Dimension: 10\n",
            "¿Terminó por criterio de paro?: True\n",
            "Número de iteraciones realizadas: 2\n",
            "La solución alcanzada es:  [0.05 0.05 0.05 0.05] ... [0.05 0.05 0.05 0.05]\n",
            "f(xk)=-0.24999999999999994\n",
            "||Grad_f(xk)||=6.280369834735101e-16\n",
            "Promedio de iteraciones realizadas en GC:  1.0\n"
          ]
        }
      ],
      "source": [
        "#probemos con la forma cuadratica, y el primer tipo de matriz con la primer dimension\n",
        "A1, b1 = gen_matrix1(n[0])\n",
        "sol1 = newton_truncated(lambda x: quadratic(x, A1, b1),\n",
        "                           lambda x: Grad_quadratic(x, A1, b1), lambda x: Hes_quadratic(x, A1, b1)\n",
        "                           ,np.zeros(n[0]), np.sqrt(n[0])*eps**(1/3.0), maxIter, a0, rho, c1, maxIter2)\n",
        "solution1(sol1)"
      ]
    },
    {
      "cell_type": "code",
      "execution_count": null,
      "metadata": {
        "colab": {
          "base_uri": "https://localhost:8080/"
        },
        "id": "X_nSY82TBqpr",
        "outputId": "bdc8e267-d003-4203-e78a-4a929deaf806"
      },
      "outputs": [
        {
          "name": "stdout",
          "output_type": "stream",
          "text": [
            "Dimension: 100\n",
            "¿Terminó por criterio de paro?: True\n",
            "Número de iteraciones realizadas: 2\n",
            "La solución alcanzada es:  [0.005 0.005 0.005 0.005] ... [0.005 0.005 0.005 0.005]\n",
            "f(xk)=-0.2500000000000001\n",
            "||Grad_f(xk)||=7.691850745534255e-16\n",
            "Promedio de iteraciones realizadas en GC:  1.0\n"
          ]
        }
      ],
      "source": [
        "A2, b2 = gen_matrix1(n[1])\n",
        "sol2 = newton_truncated(lambda x: quadratic(x, A2, b2),\n",
        "                           lambda x: Grad_quadratic(x, A2, b2), lambda x: Hes_quadratic(x, A2, b2)\n",
        "                           ,np.zeros(n[1]), np.sqrt(n[1])*eps**(1/3.0), maxIter, a0, rho, c1, maxIter2)\n",
        "solution1(sol2)"
      ]
    },
    {
      "cell_type": "code",
      "execution_count": null,
      "metadata": {
        "colab": {
          "base_uri": "https://localhost:8080/"
        },
        "id": "2roNYFhBBqpr",
        "outputId": "036bb543-813b-44e5-f9ee-260d41aee6ed"
      },
      "outputs": [
        {
          "name": "stdout",
          "output_type": "stream",
          "text": [
            "Dimension: 1000\n",
            "¿Terminó por criterio de paro?: True\n",
            "Número de iteraciones realizadas: 2\n",
            "La solución alcanzada es:  [0.0005 0.0005 0.0005 0.0005] ... [0.0005 0.0005 0.0005 0.0005]\n",
            "f(xk)=-0.25000000000000033\n",
            "||Grad_f(xk)||=1.192009396658756e-13\n",
            "Promedio de iteraciones realizadas en GC:  1.0\n"
          ]
        }
      ],
      "source": [
        "A3, b3 = gen_matrix1(n[2])\n",
        "sol3 = newton_truncated(lambda x: quadratic(x, A3, b3),\n",
        "                           lambda x: Grad_quadratic(x, A3, b3), lambda x: Hes_quadratic(x, A3, b3)\n",
        "                           ,np.zeros(n[2]), np.sqrt(n[2])*eps**(1/3.0), maxIter, a0, rho, c1, maxIter2)\n",
        "solution1(sol3)"
      ]
    },
    {
      "cell_type": "code",
      "execution_count": null,
      "metadata": {
        "colab": {
          "base_uri": "https://localhost:8080/"
        },
        "id": "S4arwHRsBqpr",
        "outputId": "f23cea0e-f7dc-40e7-b0e0-1d06ffcd5b9d"
      },
      "outputs": [
        {
          "name": "stdout",
          "output_type": "stream",
          "text": [
            "Dimension: 10\n",
            "¿Terminó por criterio de paro?: True\n",
            "Número de iteraciones realizadas: 5\n",
            "La solución alcanzada es:  [ 1.36909916 -1.16637682  1.60908281 -0.61339053] ... [-0.61339053  1.60908281 -1.16637682  1.36909916]\n",
            "f(xk)=-1.7934208025263514\n",
            "||Grad_f(xk)||=5.060690291328752e-13\n",
            "Promedio de iteraciones realizadas en GC:  3.25\n"
          ]
        }
      ],
      "source": [
        "A4, b4 = gen_matrix2(n[0])\n",
        "sol4 = newton_truncated(lambda x: quadratic(x, A4, b4),\n",
        "                           lambda x: Grad_quadratic(x, A4, b4), lambda x: Hes_quadratic(x, A4, b4)\n",
        "                           ,np.zeros(n[0]), np.sqrt(n[0])*eps**(1/3.0), maxIter, a0, rho, c1, maxIter2)\n",
        "solution1(sol4)"
      ]
    },
    {
      "cell_type": "code",
      "execution_count": null,
      "metadata": {
        "colab": {
          "base_uri": "https://localhost:8080/"
        },
        "id": "ps5e61MUBqpr",
        "outputId": "0d407e7a-aade-473f-d823-b14a0d4effa4"
      },
      "outputs": [
        {
          "name": "stdout",
          "output_type": "stream",
          "text": [
            "Gradiente conjugado está realizando todas las iteraciones\n",
            "Dimension: 100\n",
            "¿Terminó por criterio de paro?: True\n",
            "Número de iteraciones realizadas: 8\n",
            "La solución alcanzada es:  [ 1.44623817 -1.41621016  2.11026316 -1.4247325 ] ... [-1.42474015  2.11026156 -1.41620285  1.44622365]\n",
            "f(xk)=-14.494331330990486\n",
            "||Grad_f(xk)||=3.1316579202829805e-05\n",
            "Promedio de iteraciones realizadas en GC:  33.285714285714285\n"
          ]
        }
      ],
      "source": [
        "A5, b5 = gen_matrix2(n[1])\n",
        "sol5 = newton_truncated(lambda x: quadratic(x, A5, b5),\n",
        "                           lambda x: Grad_quadratic(x, A5, b5), lambda x: Hes_quadratic(x, A5, b5)\n",
        "                           ,np.zeros(n[1]), np.sqrt(n[1])*eps**(1/3.0), maxIter, a0, rho, c1, maxIter2)\n",
        "solution1(sol5)"
      ]
    },
    {
      "cell_type": "code",
      "execution_count": null,
      "metadata": {
        "colab": {
          "base_uri": "https://localhost:8080/"
        },
        "id": "c8l7jvyNBqpr",
        "outputId": "ca9d980d-e4f8-4fb8-a569-9eca1b38fc47"
      },
      "outputs": [
        {
          "name": "stdout",
          "output_type": "stream",
          "text": [
            "Dimension: 1000\n",
            "¿Terminó por criterio de paro?: True\n",
            "Número de iteraciones realizadas: 8\n",
            "La solución alcanzada es:  [ 1.44628334 -1.41634395  2.11049252 -1.42505022] ... [-1.42505022  2.11049252 -1.41634395  1.44628334]\n",
            "f(xk)=-141.436987632274\n",
            "||Grad_f(xk)||=8.219444096724556e-06\n",
            "Promedio de iteraciones realizadas en GC:  61.42857142857143\n"
          ]
        }
      ],
      "source": [
        "A6, b6 = gen_matrix2(n[2])\n",
        "sol6 = newton_truncated(lambda x: quadratic(x, A6, b6),\n",
        "                           lambda x: Grad_quadratic(x, A6, b6), lambda x: Hes_quadratic(x, A6, b6)\n",
        "                           ,np.zeros(n[2]), np.sqrt(n[2])*eps**(1/3.0), maxIter, a0, rho, c1, maxIter2)\n",
        "solution1(sol6)"
      ]
    },
    {
      "cell_type": "code",
      "execution_count": null,
      "metadata": {
        "colab": {
          "base_uri": "https://localhost:8080/"
        },
        "id": "D9kAY_gvBqpr",
        "outputId": "083697a1-7404-405a-af0a-16e511b38374"
      },
      "outputs": [
        {
          "name": "stdout",
          "output_type": "stream",
          "text": [
            "Gradiente conjugado está realizando todas las iteraciones\n",
            "Gradiente conjugado está realizando todas las iteraciones\n",
            "Gradiente conjugado está realizando todas las iteraciones\n",
            "Gradiente conjugado está realizando todas las iteraciones\n",
            "Gradiente conjugado está realizando todas las iteraciones\n",
            "Dimension: 2\n",
            "¿Terminó por criterio de paro?: True\n",
            "Número de iteraciones realizadas: 16\n",
            "La solución alcanzada es:  [3.  0.5] ... [3.  0.5]\n",
            "f(xk)=2.210293296658536e-18\n",
            "||Grad_f(xk)||=1.1973967550154697e-09\n",
            "Promedio de iteraciones realizadas en GC:  1.3333333333333333\n"
          ]
        }
      ],
      "source": [
        "x07 = np.array([2,3])\n",
        "sol7 = newton_truncated(beale, Grad_beale, Hes_beale, x07, np.sqrt(2)*eps**(1/3.0), maxIter, a0, rho, c1, maxIter2)\n",
        "solution1(sol7)"
      ]
    },
    {
      "cell_type": "code",
      "execution_count": null,
      "metadata": {
        "colab": {
          "base_uri": "https://localhost:8080/"
        },
        "id": "c5Qr8uC9Bqps",
        "outputId": "9e7dc42e-23cc-4047-9b1f-4adadcb81f79"
      },
      "outputs": [
        {
          "name": "stdout",
          "output_type": "stream",
          "text": [
            "Gradiente conjugado está realizando todas las iteraciones\n",
            "Gradiente conjugado está realizando todas las iteraciones\n",
            "Gradiente conjugado está realizando todas las iteraciones\n",
            "Dimension: 2\n",
            "¿Terminó por criterio de paro?: True\n",
            "Número de iteraciones realizadas: 8\n",
            "La solución alcanzada es:  [2.99999995 2.00000025] ... [2.99999995 2.00000025]\n",
            "f(xk)=8.829864314112677e-13\n",
            "||Grad_f(xk)||=7.395052056239921e-06\n",
            "Promedio de iteraciones realizadas en GC:  1.4285714285714286\n"
          ]
        }
      ],
      "source": [
        "x08 = np.array([2,4])\n",
        "sol8 = newton_truncated(himmelblau, Grad_himmelblau, Hes_himmelbleau, x08, np.sqrt(2)*eps**(1/3.0), maxIter, a0, rho, c1, maxIter2)\n",
        "solution1(sol8)"
      ]
    },
    {
      "cell_type": "code",
      "execution_count": null,
      "metadata": {
        "colab": {
          "base_uri": "https://localhost:8080/"
        },
        "id": "pw1BJpj4Bqps",
        "outputId": "cc59d7f0-d6e7-479f-81ef-bf4e9f96d881"
      },
      "outputs": [
        {
          "name": "stdout",
          "output_type": "stream",
          "text": [
            "Gradiente conjugado está realizando todas las iteraciones\n",
            "Gradiente conjugado está realizando todas las iteraciones\n",
            "Gradiente conjugado está realizando todas las iteraciones\n",
            "Gradiente conjugado está realizando todas las iteraciones\n",
            "Gradiente conjugado está realizando todas las iteraciones\n",
            "Gradiente conjugado está realizando todas las iteraciones\n",
            "Gradiente conjugado está realizando todas las iteraciones\n",
            "Gradiente conjugado está realizando todas las iteraciones\n",
            "Gradiente conjugado está realizando todas las iteraciones\n",
            "Gradiente conjugado está realizando todas las iteraciones\n",
            "Gradiente conjugado está realizando todas las iteraciones\n",
            "Gradiente conjugado está realizando todas las iteraciones\n",
            "Gradiente conjugado está realizando todas las iteraciones\n",
            "Gradiente conjugado está realizando todas las iteraciones\n",
            "Gradiente conjugado está realizando todas las iteraciones\n",
            "Gradiente conjugado está realizando todas las iteraciones\n",
            "Gradiente conjugado está realizando todas las iteraciones\n",
            "Gradiente conjugado está realizando todas las iteraciones\n",
            "Gradiente conjugado está realizando todas las iteraciones\n",
            "Gradiente conjugado está realizando todas las iteraciones\n",
            "Gradiente conjugado está realizando todas las iteraciones\n",
            "Gradiente conjugado está realizando todas las iteraciones\n",
            "Gradiente conjugado está realizando todas las iteraciones\n",
            "Gradiente conjugado está realizando todas las iteraciones\n",
            "Gradiente conjugado está realizando todas las iteraciones\n",
            "Gradiente conjugado está realizando todas las iteraciones\n",
            "Gradiente conjugado está realizando todas las iteraciones\n",
            "Gradiente conjugado está realizando todas las iteraciones\n",
            "Gradiente conjugado está realizando todas las iteraciones\n",
            "Gradiente conjugado está realizando todas las iteraciones\n",
            "Gradiente conjugado está realizando todas las iteraciones\n",
            "Gradiente conjugado está realizando todas las iteraciones\n",
            "Gradiente conjugado está realizando todas las iteraciones\n",
            "Gradiente conjugado está realizando todas las iteraciones\n",
            "Gradiente conjugado está realizando todas las iteraciones\n",
            "Gradiente conjugado está realizando todas las iteraciones\n",
            "Gradiente conjugado está realizando todas las iteraciones\n",
            "Gradiente conjugado está realizando todas las iteraciones\n",
            "Gradiente conjugado está realizando todas las iteraciones\n",
            "Gradiente conjugado está realizando todas las iteraciones\n",
            "Gradiente conjugado está realizando todas las iteraciones\n",
            "Gradiente conjugado está realizando todas las iteraciones\n",
            "Gradiente conjugado está realizando todas las iteraciones\n",
            "Gradiente conjugado está realizando todas las iteraciones\n",
            "Gradiente conjugado está realizando todas las iteraciones\n",
            "Gradiente conjugado está realizando todas las iteraciones\n",
            "Dimension: 2\n",
            "¿Terminó por criterio de paro?: True\n",
            "Número de iteraciones realizadas: 64\n",
            "La solución alcanzada es:  [1.         0.99999999] ... [1.         0.99999999]\n",
            "f(xk)=2.8357872857637625e-15\n",
            "||Grad_f(xk)||=2.3662776926737386e-06\n",
            "Promedio de iteraciones realizadas en GC:  1.7301587301587302\n"
          ]
        }
      ],
      "source": [
        "# con rosen\n",
        "x09 = np.array([-1.2,1])\n",
        "sol9 = newton_truncated(rosenbrock, Grad_rosenbrock, Hes_rosenbrook, x09, np.sqrt(2)*eps**(1/3.0), maxIter, a0, rho, c1, maxIter2)\n",
        "solution1(sol9)"
      ]
    },
    {
      "cell_type": "code",
      "execution_count": null,
      "metadata": {
        "colab": {
          "base_uri": "https://localhost:8080/"
        },
        "id": "NFuvh_ohBqps",
        "outputId": "73fac92a-c929-409f-bc79-4c1fb5f8f012"
      },
      "outputs": [
        {
          "name": "stdout",
          "output_type": "stream",
          "text": [
            "Dimension: 20\n",
            "¿Terminó por criterio de paro?: True\n",
            "Número de iteraciones realizadas: 125\n",
            "La solución alcanzada es:  [1. 1. 1. 1.] ... [1. 1. 1. 1.]\n",
            "f(xk)=1.3913269331364043e-15\n",
            "||Grad_f(xk)||=1.200043193703399e-06\n",
            "Promedio de iteraciones realizadas en GC:  3.911290322580645\n"
          ]
        }
      ],
      "source": [
        "# con rosen\n",
        "x010 = np.ones(20)\n",
        "for i in range(0, 20, 2):\n",
        "    x010[i] = -1.2\n",
        "sol10 = newton_truncated(rosenbrock, Grad_rosenbrock, Hes_rosenbrook, x010, np.sqrt(20)*eps**(1/3.0), maxIter, a0, rho, c1, maxIter2)\n",
        "solution1(sol10)"
      ]
    },
    {
      "cell_type": "code",
      "execution_count": null,
      "metadata": {
        "colab": {
          "base_uri": "https://localhost:8080/"
        },
        "id": "bAUvIwS0Bqps",
        "outputId": "79ffd210-d957-4554-aba5-da8ad83400d9"
      },
      "outputs": [
        {
          "name": "stdout",
          "output_type": "stream",
          "text": [
            "Dimension: 40\n",
            "¿Terminó por criterio de paro?: True\n",
            "Número de iteraciones realizadas: 185\n",
            "La solución alcanzada es:  [1. 1. 1. 1.] ... [0.99999993 0.99999985 0.9999997  0.9999994 ]\n",
            "f(xk)=1.2173690365042723e-13\n",
            "||Grad_f(xk)||=1.0088367234539755e-06\n",
            "Promedio de iteraciones realizadas en GC:  4.586956521739131\n"
          ]
        }
      ],
      "source": [
        "# con rosen\n",
        "x011 = np.ones(40)\n",
        "for i in range(0, 40, 2):\n",
        "    x011[i] = -1.2\n",
        "sol11 = newton_truncated(rosenbrock, Grad_rosenbrock, Hes_rosenbrook, x011, np.sqrt(40)*eps**(1/3.0), maxIter, a0, rho, c1, maxIter2)\n",
        "solution1(sol11)"
      ]
    },
    {
      "cell_type": "markdown",
      "metadata": {
        "id": "6aqY2UtYXEog"
      },
      "source": [
        "\n",
        "```\n",
        "\n",
        "\n",
        "```\n",
        "---\n"
      ]
    },
    {
      "cell_type": "markdown",
      "metadata": {
        "id": "MGMNCXXAXEoh"
      },
      "source": [
        "## Ejercicio 2 (3 puntos)\n",
        "\n",
        "Programar las funciones que calcule el gradiente y la Hessiana usando el método\n",
        "de diferencias finitas.\n",
        "\n",
        "1. Programe la función que calcule una aproximación del gradiente de una función\n",
        "   $f(\\mathbf{x})$ en un punto $\\mathbf{x}\\in\\mathbb{R}^n$ dado usando el esquema de\n",
        "   diferencias finitas hacia adelante    (Página 20 de la Clase 20).\n",
        "   \n",
        "- La función recibe como parámetros la función $f$, el punto $\\mathbf{x}$ y\n",
        "  el incremento $h$ y devuelve el arreglo de tamaño $n$ con las aproximaciones\n",
        "  de  aproximaciones de las derivadas parciales en el punto $\\mathbf{x}$.\n",
        "  \n",
        "2. Programe la función que calcule una aproximación de la Hessiana de una función\n",
        "   $f(\\mathbf{x})$ en un punto $\\mathbf{x}\\in\\mathbb{R}^n$ dado usando el esquema de\n",
        "   diferencias finitas de la Página 22  de la Clase 20.\n",
        "\n",
        "- La función recibe como parámetros la función $f$, el punto $\\mathbf{x}$ y\n",
        "  el incremento $h$ y devuelve una matriz simétrica de tamaño $n$ que tiene\n",
        "  las aproximaciones de las segundas derivadas parciales de $f$  en el punto $\\mathbf{x}$.\n",
        "  \n",
        "3. Modifique la función `errorRelativo_grad`  para reportar estadísticas del\n",
        "   error relativo de la implementación del gradiente analítico `gradf` de\n",
        "   una función respecto al gradiente calculado con `autograd`, para que mida\n",
        "   el error relativo entre la función `gradf` y la aproximación del gradiente\n",
        "   usando diferencias finitas.\n",
        "   Hay que agregar como parámetro de `errorRelativo_grad` el incremento $h$\n",
        "   para que se pueda llamar la función del Punto 1.\n",
        "   \n",
        "4. Programar la función `errorRelativo_hess`, similar a la función del punto anterior,\n",
        "   para que reporte estadísticas del error relativo entre una función que calcula\n",
        "   la Hessiana de $f$ de manera analítica en un punto  $\\mathbf{x}$ y la aproximación\n",
        "   de la Hessiana en  $\\mathbf{x}$ usando diferencias finitas.\n",
        "   \n",
        "5. Pruebe las funciones `errorRelativo_grad` con cada una de las funciones\n",
        "   del Ejercicio 1 usando $h=10^{-5}, 10^{-6}, 10^{-7}, 10^{-8}$.\n",
        "   ¿Cuál es el valor de $h$ que conviene usar para aproximar el gradiente y cuál\n",
        "   para aproximar la Hessiana?\n",
        "\n",
        "### Solución:"
      ]
    },
    {
      "cell_type": "code",
      "execution_count": null,
      "metadata": {
        "id": "golKi_3RBqps"
      },
      "outputs": [],
      "source": [
        "# para el gradiente\n",
        "def grad_dfa(f, x, h):\n",
        "    dim = len(x)\n",
        "    g = np.zeros(dim)\n",
        "    for i in range(dim):\n",
        "        x_aux = x.copy()\n",
        "        x_aux[i] += h\n",
        "        g[i] = (f(x_aux)-f(x))/h\n",
        "    return g\n",
        "\n",
        "# para la hessiana\n",
        "def hess(f, x, h):\n",
        "    dim = len(x)\n",
        "    H = np.zeros([dim, dim])\n",
        "    for i in range(dim):\n",
        "        for j in range(i, dim):\n",
        "            ei = np.eye(dim)[i]\n",
        "            ej = np.eye(dim)[j]\n",
        "            H[i][j] = H[j][i] = f(x + h*ei + h*ej) + f(x)\n",
        "            H[i][j] = H[j][i] = H[i][j] - f(x+h*ei) - f(x+h*ej)\n",
        "            H[i][j] = H[j][i] = H[i][j]/(h**2)\n",
        "    return H\n"
      ]
    },
    {
      "cell_type": "code",
      "execution_count": null,
      "metadata": {
        "id": "WZMpfM8eXEoi"
      },
      "outputs": [],
      "source": [
        "\n",
        "def errorRelativo_grad(fncf, gradf, agrad, n, nt, h):\n",
        "    '''\n",
        "    Imprime estadísticas sobre el error relativo entre el gradiente analítico\n",
        "    de una función y el cálculado con autograd.\n",
        "    fncf  - Función f\n",
        "    gradf - Implementación del gradiente analítico de la función f\n",
        "    agrad - aproximacion del gradiente mediante diferencias finitas\n",
        "    n     - Dimensión de la variable n\n",
        "    nt    - Número de puntos aleatorios en donde se comparan los gradientes\n",
        "    h - Incremento\n",
        "    '''\n",
        "    ve = np.zeros(nt)\n",
        "    print('\\nErrores relativos en el cálculo del gradiente:')\n",
        "    for it in range(nt):\n",
        "        x0  = np.random.randn(n)\n",
        "        g0  = gradf(x0)\n",
        "        ga  = agrad(fncf, x0, h)\n",
        "        ve[it] = np.linalg.norm(g0-ga)/np.linalg.norm(ga)\n",
        "    print('Min: %.2e   Media: %.2e    Max: %.2e' %(np.min(ve), np.mean(ve), np.max(ve)))\n",
        "\n",
        "def errorRelativo_hess(fncf, ahess, hess, n, nt, h):\n",
        "    '''\n",
        "    Imprime estadísticas sobre el error relativo entre el gradiente analítico\n",
        "    de una función y el cálculado con autograd.\n",
        "    fncf  - Función f\n",
        "    ahess - Implementación de la hessiana por diferencias finitas\n",
        "    hess - Implementación de la hessiana analítica\n",
        "    n     - Dimensión de la variable n\n",
        "    nt    - Número de puntos aleatorios en donde se comparan los gradientes\n",
        "    h - incremento\n",
        "    '''\n",
        "    ve = np.zeros(nt)\n",
        "    print('\\nErrores relativos en el cálculo de la Hessiana:')\n",
        "    for it in range(nt):\n",
        "        x0  = np.random.randn(n)\n",
        "        h0  = ahess(fncf, x0, h)\n",
        "        ha  = hess(x0)\n",
        "        ve[it] = np.linalg.norm(h0-ha)/np.linalg.norm(ha)\n",
        "    print('Min: %.2e   Media: %.2e    Max: %.2e' %(np.min(ve), np.mean(ve), np.max(ve)))"
      ]
    },
    {
      "cell_type": "markdown",
      "metadata": {
        "id": "aSQ73r0hBqpt"
      },
      "source": [
        "Vamos a probar con las funciones del ejercicio anterior..."
      ]
    },
    {
      "cell_type": "code",
      "execution_count": null,
      "metadata": {
        "id": "mFn3MJPnBqpt"
      },
      "outputs": [],
      "source": [
        "h = [10e-5, 10e-6, 10e-7, 10e-8]\n",
        "n = 10"
      ]
    },
    {
      "cell_type": "markdown",
      "metadata": {
        "id": "jt1r3kxMFGXL"
      },
      "source": [
        "#Probaremos ahora los gradientes\n",
        "Con el primer valor de $h$:"
      ]
    },
    {
      "cell_type": "code",
      "execution_count": null,
      "metadata": {
        "colab": {
          "base_uri": "https://localhost:8080/"
        },
        "id": "Ly1mhJWvXEoj",
        "outputId": "db2dbbbc-d946-4c91-856a-b09763709f89"
      },
      "outputs": [
        {
          "name": "stdout",
          "output_type": "stream",
          "text": [
            "Función cuadrática 1, dim=10, h1:\n",
            "\n",
            "Errores relativos en el cálculo del gradiente:\n",
            "Min: 2.59e-05   Media: 4.90e-05    Max: 7.14e-05\n",
            "\n",
            "Función cuadrática 1, dim=100, h1:\n",
            "\n",
            "Errores relativos en el cálculo del gradiente:\n",
            "Min: 4.29e-05   Media: 4.96e-05    Max: 5.65e-05\n",
            "\n",
            "Función cuadrática 1, dim=1000, h1:\n",
            "\n",
            "Errores relativos en el cálculo del gradiente:\n",
            "Min: 4.77e-05   Media: 5.00e-05    Max: 5.16e-05\n",
            "\n",
            "Función cuadrática 12, dim=10, h1:\n",
            "\n",
            "Errores relativos en el cálculo del gradiente:\n",
            "Min: 2.06e-05   Media: 3.93e-05    Max: 5.60e-05\n",
            "\n",
            "Función cuadrática 12, dim=100, h1:\n",
            "\n",
            "Errores relativos en el cálculo del gradiente:\n",
            "Min: 2.36e-05   Media: 2.84e-05    Max: 3.74e-05\n",
            "\n",
            "Función cuadrática 12, dim=1000, h1:\n",
            "\n",
            "Errores relativos en el cálculo del gradiente:\n",
            "Min: 2.59e-05   Media: 2.71e-05    Max: 2.83e-05\n",
            "\n",
            "Función Beale, h1:\n",
            "\n",
            "Errores relativos en el cálculo del gradiente:\n",
            "Min: 2.07e-05   Media: 1.52e-04    Max: 7.08e-04\n",
            "\n",
            "Función Himmelbleau, h1:\n",
            "\n",
            "Errores relativos en el cálculo del gradiente:\n",
            "Min: 1.79e-05   Media: 6.07e-05    Max: 1.46e-04\n",
            "\n",
            "Función Rosenbrock, dim=2, h1:\n",
            "\n",
            "Errores relativos en el cálculo del gradiente:\n",
            "Min: 8.52e-05   Media: 1.51e-04    Max: 3.70e-04\n",
            "\n",
            "Función Rosenbrock, dim=20, h1:\n",
            "\n",
            "Errores relativos en el cálculo del gradiente:\n",
            "Min: 5.23e-05   Media: 7.25e-05    Max: 8.98e-05\n",
            "\n",
            "Función Rosenbrock, dim=40, h1:\n",
            "\n",
            "Errores relativos en el cálculo del gradiente:\n",
            "Min: 4.33e-05   Media: 6.73e-05    Max: 8.34e-05\n"
          ]
        }
      ],
      "source": [
        "print(\"Función cuadrática 1, dim=10, h1:\")\n",
        "errorRelativo_grad(lambda x: quadratic(x, A1, b1), lambda x: Grad_quadratic(x, A1, b1),grad_dfa, 10, n, h[0])\n",
        "print(\"\\nFunción cuadrática 1, dim=100, h1:\")\n",
        "errorRelativo_grad(lambda x: quadratic(x, A2, b2), lambda x: Grad_quadratic(x, A2, b2), grad_dfa, 100, n, h[0])\n",
        "print(\"\\nFunción cuadrática 1, dim=1000, h1:\")\n",
        "errorRelativo_grad(lambda x: quadratic(x, A3, b3), lambda x: Grad_quadratic(x, A3, b3), grad_dfa, 1000, n, h[0])\n",
        "print(\"\\nFunción cuadrática 12, dim=10, h1:\")\n",
        "errorRelativo_grad(lambda x: quadratic(x, A4, b4), lambda x: Grad_quadratic(x, A4, b4), grad_dfa, 10, n, h[0])\n",
        "print(\"\\nFunción cuadrática 12, dim=100, h1:\")\n",
        "errorRelativo_grad(lambda x: quadratic(x, A5, b5), lambda x: Grad_quadratic(x, A5, b5), grad_dfa, 100, n, h[0])\n",
        "print(\"\\nFunción cuadrática 12, dim=1000, h1:\")\n",
        "errorRelativo_grad(lambda x: quadratic(x, A6, b6), lambda x: Grad_quadratic(x, A6, b6), grad_dfa, 1000, n, h[0])\n",
        "print(\"\\nFunción Beale, h1:\")\n",
        "errorRelativo_grad(beale, Grad_beale,grad_dfa, 2, n, h[0])\n",
        "print(\"\\nFunción Himmelbleau, h1:\")\n",
        "errorRelativo_grad(himmelblau, Grad_himmelblau, grad_dfa, 2, n, h[0])\n",
        "print(\"\\nFunción Rosenbrock, dim=2, h1:\")\n",
        "errorRelativo_grad(rosenbrock, Grad_rosenbrock, grad_dfa, 2, n, h[0])\n",
        "print(\"\\nFunción Rosenbrock, dim=20, h1:\")\n",
        "errorRelativo_grad(rosenbrock, Grad_rosenbrock, grad_dfa, 20, n, h[0])\n",
        "print(\"\\nFunción Rosenbrock, dim=40, h1:\")\n",
        "errorRelativo_grad(rosenbrock, Grad_rosenbrock, grad_dfa, 40, n, h[0])"
      ]
    },
    {
      "cell_type": "markdown",
      "metadata": {
        "id": "-2c3jwMuFUpO"
      },
      "source": [
        "Con el segundo valor de $h$:"
      ]
    },
    {
      "cell_type": "code",
      "execution_count": null,
      "metadata": {
        "colab": {
          "base_uri": "https://localhost:8080/"
        },
        "id": "al9-McjpFLAx",
        "outputId": "4d55ad6d-e2c6-4acf-9741-e3da8496b6c2"
      },
      "outputs": [
        {
          "name": "stdout",
          "output_type": "stream",
          "text": [
            "Función cuadrática 1, dim=10, h2:\n",
            "\n",
            "Errores relativos en el cálculo del gradiente:\n",
            "Min: 4.01e-06   Media: 5.28e-06    Max: 6.69e-06\n",
            "\n",
            "Función cuadrática 1, dim=100, h2:\n",
            "\n",
            "Errores relativos en el cálculo del gradiente:\n",
            "Min: 4.38e-06   Media: 5.03e-06    Max: 5.48e-06\n",
            "\n",
            "Función cuadrática 1, dim=1000, h2:\n",
            "\n",
            "Errores relativos en el cálculo del gradiente:\n",
            "Min: 4.89e-06   Media: 4.97e-06    Max: 5.05e-06\n",
            "\n",
            "Función cuadrática 12, dim=10, h2:\n",
            "\n",
            "Errores relativos en el cálculo del gradiente:\n",
            "Min: 1.72e-06   Media: 3.48e-06    Max: 6.24e-06\n",
            "\n",
            "Función cuadrática 12, dim=100, h2:\n",
            "\n",
            "Errores relativos en el cálculo del gradiente:\n",
            "Min: 2.26e-06   Media: 2.82e-06    Max: 3.15e-06\n",
            "\n",
            "Función cuadrática 12, dim=1000, h2:\n",
            "\n",
            "Errores relativos en el cálculo del gradiente:\n",
            "Min: 2.45e-06   Media: 2.60e-06    Max: 2.73e-06\n",
            "\n",
            "Función Beale, h2:\n",
            "\n",
            "Errores relativos en el cálculo del gradiente:\n",
            "Min: 1.79e-06   Media: 1.24e-05    Max: 3.85e-05\n",
            "\n",
            "Función Himmelbleau, h2:\n",
            "\n",
            "Errores relativos en el cálculo del gradiente:\n",
            "Min: 1.76e-06   Media: 3.71e-06    Max: 9.95e-06\n",
            "\n",
            "Función Rosenbrock, dim=2, h2:\n",
            "\n",
            "Errores relativos en el cálculo del gradiente:\n",
            "Min: 2.61e-06   Media: 5.48e-05    Max: 2.75e-04\n",
            "\n",
            "Función Rosenbrock, dim=20, h2:\n",
            "\n",
            "Errores relativos en el cálculo del gradiente:\n",
            "Min: 6.12e-06   Media: 7.65e-06    Max: 1.09e-05\n",
            "\n",
            "Función Rosenbrock, dim=40, h2:\n",
            "\n",
            "Errores relativos en el cálculo del gradiente:\n",
            "Min: 6.06e-06   Media: 7.48e-06    Max: 1.04e-05\n"
          ]
        }
      ],
      "source": [
        "print(\"Función cuadrática 1, dim=10, h2:\")\n",
        "errorRelativo_grad(lambda x: quadratic(x, A1, b1), lambda x: Grad_quadratic(x, A1, b1),grad_dfa, 10, n, h[1])\n",
        "print(\"\\nFunción cuadrática 1, dim=100, h2:\")\n",
        "errorRelativo_grad(lambda x: quadratic(x, A2, b2), lambda x: Grad_quadratic(x, A2, b2), grad_dfa, 100, n, h[1])\n",
        "print(\"\\nFunción cuadrática 1, dim=1000, h2:\")\n",
        "errorRelativo_grad(lambda x: quadratic(x, A3, b3), lambda x: Grad_quadratic(x, A3, b3), grad_dfa, 1000, n, h[1])\n",
        "print(\"\\nFunción cuadrática 12, dim=10, h2:\")\n",
        "errorRelativo_grad(lambda x: quadratic(x, A4, b4), lambda x: Grad_quadratic(x, A4, b4), grad_dfa, 10, n, h[1])\n",
        "print(\"\\nFunción cuadrática 12, dim=100, h2:\")\n",
        "errorRelativo_grad(lambda x: quadratic(x, A5, b5), lambda x: Grad_quadratic(x, A5, b5), grad_dfa, 100, n, h[1])\n",
        "print(\"\\nFunción cuadrática 12, dim=1000, h2:\")\n",
        "errorRelativo_grad(lambda x: quadratic(x, A6, b6), lambda x: Grad_quadratic(x, A6, b6), grad_dfa, 1000, n, h[1])\n",
        "print(\"\\nFunción Beale, h2:\")\n",
        "errorRelativo_grad(beale, Grad_beale,grad_dfa, 2, n, h[1])\n",
        "print(\"\\nFunción Himmelbleau, h2:\")\n",
        "errorRelativo_grad(himmelblau, Grad_himmelblau, grad_dfa, 2, n, h[1])\n",
        "print(\"\\nFunción Rosenbrock, dim=2, h2:\")\n",
        "errorRelativo_grad(rosenbrock, Grad_rosenbrock, grad_dfa, 2, n, h[1])\n",
        "print(\"\\nFunción Rosenbrock, dim=20, h2:\")\n",
        "errorRelativo_grad(rosenbrock, Grad_rosenbrock, grad_dfa, 20, n, h[1])\n",
        "print(\"\\nFunción Rosenbrock, dim=40, h2:\")\n",
        "errorRelativo_grad(rosenbrock, Grad_rosenbrock, grad_dfa, 40, n, h[1])"
      ]
    },
    {
      "cell_type": "markdown",
      "metadata": {
        "id": "b3hbGkEOFqQ2"
      },
      "source": [
        "Para el tercer valor de $h$:"
      ]
    },
    {
      "cell_type": "code",
      "execution_count": null,
      "metadata": {
        "colab": {
          "base_uri": "https://localhost:8080/"
        },
        "id": "n2qrZty0FT78",
        "outputId": "a7de0dea-ff87-4057-b357-02f283590250"
      },
      "outputs": [
        {
          "name": "stdout",
          "output_type": "stream",
          "text": [
            "Función cuadrática 1, dim=10, h3:\n",
            "\n",
            "Errores relativos en el cálculo del gradiente:\n",
            "Min: 4.05e-07   Media: 5.02e-07    Max: 6.34e-07\n",
            "\n",
            "Función cuadrática 1, dim=100, h3:\n",
            "\n",
            "Errores relativos en el cálculo del gradiente:\n",
            "Min: 4.13e-07   Media: 4.93e-07    Max: 5.75e-07\n",
            "\n",
            "Función cuadrática 1, dim=1000, h3:\n",
            "\n",
            "Errores relativos en el cálculo del gradiente:\n",
            "Min: 3.70e-07   Media: 4.90e-07    Max: 6.10e-07\n",
            "\n",
            "Función cuadrática 12, dim=10, h3:\n",
            "\n",
            "Errores relativos en el cálculo del gradiente:\n",
            "Min: 1.83e-07   Media: 3.83e-07    Max: 7.79e-07\n",
            "\n",
            "Función cuadrática 12, dim=100, h3:\n",
            "\n",
            "Errores relativos en el cálculo del gradiente:\n",
            "Min: 2.38e-07   Media: 2.62e-07    Max: 2.95e-07\n",
            "\n",
            "Función cuadrática 12, dim=1000, h3:\n",
            "\n",
            "Errores relativos en el cálculo del gradiente:\n",
            "Min: 2.21e-07   Media: 2.74e-07    Max: 3.02e-07\n",
            "\n",
            "Función Beale, h3:\n",
            "\n",
            "Errores relativos en el cálculo del gradiente:\n",
            "Min: 2.54e-07   Media: 6.83e-07    Max: 2.06e-06\n",
            "\n",
            "Función Himmelbleau, h3:\n",
            "\n",
            "Errores relativos en el cálculo del gradiente:\n",
            "Min: 2.12e-07   Media: 7.65e-07    Max: 2.19e-06\n",
            "\n",
            "Función Rosenbrock, dim=2, h3:\n",
            "\n",
            "Errores relativos en el cálculo del gradiente:\n",
            "Min: 5.00e-07   Media: 3.80e-06    Max: 2.81e-05\n",
            "\n",
            "Función Rosenbrock, dim=20, h3:\n",
            "\n",
            "Errores relativos en el cálculo del gradiente:\n",
            "Min: 4.62e-07   Media: 7.47e-07    Max: 1.26e-06\n",
            "\n",
            "Función Rosenbrock, dim=40, h3:\n",
            "\n",
            "Errores relativos en el cálculo del gradiente:\n",
            "Min: 5.71e-07   Media: 7.46e-07    Max: 1.05e-06\n"
          ]
        }
      ],
      "source": [
        "print(\"Función cuadrática 1, dim=10, h3:\")\n",
        "errorRelativo_grad(lambda x: quadratic(x, A1, b1), lambda x: Grad_quadratic(x, A1, b1),grad_dfa, 10, n, h[2])\n",
        "print(\"\\nFunción cuadrática 1, dim=100, h3:\")\n",
        "errorRelativo_grad(lambda x: quadratic(x, A2, b2), lambda x: Grad_quadratic(x, A2, b2), grad_dfa, 100, n, h[2])\n",
        "print(\"\\nFunción cuadrática 1, dim=1000, h3:\")\n",
        "errorRelativo_grad(lambda x: quadratic(x, A3, b3), lambda x: Grad_quadratic(x, A3, b3), grad_dfa, 1000, n, h[2])\n",
        "print(\"\\nFunción cuadrática 12, dim=10, h3:\")\n",
        "errorRelativo_grad(lambda x: quadratic(x, A4, b4), lambda x: Grad_quadratic(x, A4, b4), grad_dfa, 10, n, h[2])\n",
        "print(\"\\nFunción cuadrática 12, dim=100, h3:\")\n",
        "errorRelativo_grad(lambda x: quadratic(x, A5, b5), lambda x: Grad_quadratic(x, A5, b5), grad_dfa, 100, n, h[2])\n",
        "print(\"\\nFunción cuadrática 12, dim=1000, h3:\")\n",
        "errorRelativo_grad(lambda x: quadratic(x, A6, b6), lambda x: Grad_quadratic(x, A6, b6), grad_dfa, 1000, n, h[2])\n",
        "print(\"\\nFunción Beale, h3:\")\n",
        "errorRelativo_grad(beale, Grad_beale,grad_dfa, 2, n, h[2])\n",
        "print(\"\\nFunción Himmelbleau, h3:\")\n",
        "errorRelativo_grad(himmelblau, Grad_himmelblau, grad_dfa, 2, n, h[2])\n",
        "print(\"\\nFunción Rosenbrock, dim=2, h3:\")\n",
        "errorRelativo_grad(rosenbrock, Grad_rosenbrock, grad_dfa, 2, n, h[2])\n",
        "print(\"\\nFunción Rosenbrock, dim=20, h3:\")\n",
        "errorRelativo_grad(rosenbrock, Grad_rosenbrock, grad_dfa, 20, n, h[2])\n",
        "print(\"\\nFunción Rosenbrock, dim=40, h3:\")\n",
        "errorRelativo_grad(rosenbrock, Grad_rosenbrock, grad_dfa, 40, n, h[2])"
      ]
    },
    {
      "cell_type": "markdown",
      "metadata": {
        "id": "t9sUbpfiFuMf"
      },
      "source": [
        "Para el cuarto valor de $h$:"
      ]
    },
    {
      "cell_type": "code",
      "execution_count": null,
      "metadata": {
        "colab": {
          "base_uri": "https://localhost:8080/"
        },
        "id": "h8CQLSiXFiNz",
        "outputId": "13c1fd8f-6ddc-4a07-d824-f26f7e1f9533"
      },
      "outputs": [
        {
          "name": "stdout",
          "output_type": "stream",
          "text": [
            "Función cuadrática 1, dim=10, h4:\n",
            "\n",
            "Errores relativos en el cálculo del gradiente:\n",
            "Min: 2.25e-08   Media: 5.72e-08    Max: 7.06e-08\n",
            "\n",
            "Función cuadrática 1, dim=100, h4:\n",
            "\n",
            "Errores relativos en el cálculo del gradiente:\n",
            "Min: 2.46e-08   Media: 8.42e-08    Max: 1.71e-07\n",
            "\n",
            "Función cuadrática 1, dim=1000, h4:\n",
            "\n",
            "Errores relativos en el cálculo del gradiente:\n",
            "Min: 2.08e-07   Media: 6.42e-07    Max: 1.37e-06\n",
            "\n",
            "Función cuadrática 12, dim=10, h4:\n",
            "\n",
            "Errores relativos en el cálculo del gradiente:\n",
            "Min: 1.66e-08   Media: 3.25e-08    Max: 4.41e-08\n",
            "\n",
            "Función cuadrática 12, dim=100, h4:\n",
            "\n",
            "Errores relativos en el cálculo del gradiente:\n",
            "Min: 2.37e-08   Media: 3.72e-08    Max: 5.83e-08\n",
            "\n",
            "Función cuadrática 12, dim=1000, h4:\n",
            "\n",
            "Errores relativos en el cálculo del gradiente:\n",
            "Min: 2.03e-07   Media: 3.80e-07    Max: 8.78e-07\n",
            "\n",
            "Función Beale, h4:\n",
            "\n",
            "Errores relativos en el cálculo del gradiente:\n",
            "Min: 1.32e-08   Media: 5.17e-08    Max: 1.33e-07\n",
            "\n",
            "Función Himmelbleau, h4:\n",
            "\n",
            "Errores relativos en el cálculo del gradiente:\n",
            "Min: 1.66e-08   Media: 9.22e-08    Max: 2.17e-07\n",
            "\n",
            "Función Rosenbrock, dim=2, h4:\n",
            "\n",
            "Errores relativos en el cálculo del gradiente:\n",
            "Min: 2.83e-08   Media: 2.83e-07    Max: 1.96e-06\n",
            "\n",
            "Función Rosenbrock, dim=20, h4:\n",
            "\n",
            "Errores relativos en el cálculo del gradiente:\n",
            "Min: 5.23e-08   Media: 6.61e-08    Max: 7.46e-08\n",
            "\n",
            "Función Rosenbrock, dim=40, h4:\n",
            "\n",
            "Errores relativos en el cálculo del gradiente:\n",
            "Min: 5.47e-08   Media: 7.06e-08    Max: 9.26e-08\n"
          ]
        }
      ],
      "source": [
        "print(\"Función cuadrática 1, dim=10, h4:\")\n",
        "errorRelativo_grad(lambda x: quadratic(x, A1, b1), lambda x: Grad_quadratic(x, A1, b1),grad_dfa, 10, n, h[3])\n",
        "print(\"\\nFunción cuadrática 1, dim=100, h4:\")\n",
        "errorRelativo_grad(lambda x: quadratic(x, A2, b2), lambda x: Grad_quadratic(x, A2, b2), grad_dfa, 100, n, h[3])\n",
        "print(\"\\nFunción cuadrática 1, dim=1000, h4:\")\n",
        "errorRelativo_grad(lambda x: quadratic(x, A3, b3), lambda x: Grad_quadratic(x, A3, b3), grad_dfa, 1000, n, h[3])\n",
        "print(\"\\nFunción cuadrática 12, dim=10, h4:\")\n",
        "errorRelativo_grad(lambda x: quadratic(x, A4, b4), lambda x: Grad_quadratic(x, A4, b4), grad_dfa, 10, n, h[3])\n",
        "print(\"\\nFunción cuadrática 12, dim=100, h4:\")\n",
        "errorRelativo_grad(lambda x: quadratic(x, A5, b5), lambda x: Grad_quadratic(x, A5, b5), grad_dfa, 100, n, h[3])\n",
        "print(\"\\nFunción cuadrática 12, dim=1000, h4:\")\n",
        "errorRelativo_grad(lambda x: quadratic(x, A6, b6), lambda x: Grad_quadratic(x, A6, b6), grad_dfa, 1000, n, h[3])\n",
        "print(\"\\nFunción Beale, h4:\")\n",
        "errorRelativo_grad(beale, Grad_beale,grad_dfa, 2, n, h[3])\n",
        "print(\"\\nFunción Himmelbleau, h4:\")\n",
        "errorRelativo_grad(himmelblau, Grad_himmelblau, grad_dfa, 2, n, h[3])\n",
        "print(\"\\nFunción Rosenbrock, dim=2, h4:\")\n",
        "errorRelativo_grad(rosenbrock, Grad_rosenbrock, grad_dfa, 2, n, h[3])\n",
        "print(\"\\nFunción Rosenbrock, dim=20, h4:\")\n",
        "errorRelativo_grad(rosenbrock, Grad_rosenbrock, grad_dfa, 20, n, h[3])\n",
        "print(\"\\nFunción Rosenbrock, dim=40, h4:\")\n",
        "errorRelativo_grad(rosenbrock, Grad_rosenbrock, grad_dfa, 40, n, h[3])"
      ]
    },
    {
      "cell_type": "markdown",
      "metadata": {
        "id": "i6hGjgXjFy02"
      },
      "source": [
        "#Probaremos ahora con la Hessiana\n",
        "Para el primer valor de $h$:"
      ]
    },
    {
      "cell_type": "code",
      "execution_count": null,
      "metadata": {
        "colab": {
          "background_save": true,
          "base_uri": "https://localhost:8080/"
        },
        "id": "Oecm62pvFyVF",
        "outputId": "53f3519e-57ce-4401-dcdc-c5c416c98503"
      },
      "outputs": [
        {
          "name": "stdout",
          "output_type": "stream",
          "text": [
            "Función cuadrática 1, dim=10, h1:\n",
            "\n",
            "Errores relativos en el cálculo de la Hessiana:\n",
            "Min: 1.92e-07   Media: 4.84e-07    Max: 1.26e-06\n",
            "\n",
            "Función cuadrática 1, dim=100, h1:\n",
            "\n",
            "Errores relativos en el cálculo de la Hessiana:\n",
            "Min: 8.20e-06   Media: 1.68e-05    Max: 3.01e-05\n",
            "\n",
            "Función cuadrática 1, dim=1000, h1:\n",
            "\n",
            "Errores relativos en el cálculo de la Hessiana:\n"
          ]
        }
      ],
      "source": [
        "print(\"Función cuadrática 1, dim=10, h1:\")\n",
        "errorRelativo_hess(lambda x: quadratic(x, A1, b1), hess, lambda x: Hes_quadratic(x, A1, b1), 10, n, h[0])\n",
        "print(\"\\nFunción cuadrática 1, dim=100, h1:\")\n",
        "errorRelativo_hess(lambda x: quadratic(x, A2, b2), hess, lambda x: Hes_quadratic(x, A2, b2),100, n, h[0])\n",
        "#print(\"\\nFunción cuadrática 1, dim=1000, h1:\")\n",
        "#errorRelativo_hess(lambda x: quadratic(x, A3, b3), hess, lambda x: Hes_quadratic(x, A3, b3),1000, n, h[0])\n",
        "print(\"\\nFunción cuadrática 12, dim=10, h1:\")\n",
        "errorRelativo_hess(lambda x: quadratic(x, A4, b4), hess, lambda x: Hes_quadratic(x, A4, b4),10, n, h[0])\n",
        "print(\"\\nFunción cuadrática 12, dim=100, h1:\")\n",
        "errorRelativo_hess(lambda x: quadratic(x, A5, b5), hess, lambda x: Hes_quadratic(x, A5, b5),100, n, h[0])\n",
        "#print(\"\\nFunción cuadrática 12, dim=1000, h1:\")\n",
        "#errorRelativo_hess(lambda x: quadratic(x, A6, b6), hess, lambda x: Hes_quadratic(x, A6, b6),1000, n, h[0])\n",
        "print(\"\\nFunción Beale, h1:\")\n",
        "errorRelativo_hess(beale, hess, Hes_beale, 2, n, h[0])\n",
        "print(\"\\nFunción Himmelbleau, h1:\")\n",
        "errorRelativo_hess(himmelblau, hess, Hes_himmelbleau,2, n, h[0])\n",
        "print(\"\\nFunción Rosenbrock, dim=2, h1:\")\n",
        "errorRelativo_hess(rosenbrock, hess, Hes_rosenbrook,2, n, h[0])\n",
        "print(\"\\nFunción Rosenbrock, dim=20, h1:\")\n",
        "errorRelativo_hess(rosenbrock, hess, Hes_rosenbrook,20, n, h[0])\n",
        "print(\"\\nFunción Rosenbrock, dim=40, h1:\")\n",
        "errorRelativo_hess(rosenbrock, hess, Hes_rosenbrook,40, n, h[0])"
      ]
    },
    {
      "cell_type": "markdown",
      "metadata": {
        "id": "z7Rwh4EMJDjy"
      },
      "source": [
        "Para el segundo valor de $h$:"
      ]
    },
    {
      "cell_type": "code",
      "execution_count": null,
      "metadata": {
        "colab": {
          "background_save": true
        },
        "id": "wfz8HvCrI8r9",
        "outputId": "61f0d396-d5eb-46c5-b144-28b3a623e57c"
      },
      "outputs": [
        {
          "name": "stdout",
          "output_type": "stream",
          "text": [
            "Función cuadrática 1, dim=10, h2:\n",
            "\n",
            "Errores relativos en el cálculo de la Hessiana:\n",
            "Min: 1.80e-05   Media: 3.47e-05    Max: 6.81e-05\n",
            "\n",
            "Función cuadrática 1, dim=100, h2:\n",
            "\n",
            "Errores relativos en el cálculo de la Hessiana:\n",
            "Min: 8.33e-04   Media: 1.92e-03    Max: 4.56e-03\n",
            "\n",
            "Función cuadrática 12, dim=10, h2:\n",
            "\n",
            "Errores relativos en el cálculo de la Hessiana:\n",
            "Min: 5.08e-06   Media: 4.68e-05    Max: 8.02e-05\n",
            "\n",
            "Función cuadrática 12, dim=100, h2:\n",
            "\n",
            "Errores relativos en el cálculo de la Hessiana:\n",
            "Min: 2.30e-04   Media: 7.39e-04    Max: 1.59e-03\n",
            "\n",
            "Función Beale, h2:\n",
            "\n",
            "Errores relativos en el cálculo de la Hessiana:\n",
            "Min: 2.18e-06   Media: 2.13e-05    Max: 5.06e-05\n",
            "\n",
            "Función Himmelbleau, h2:\n",
            "\n",
            "Errores relativos en el cálculo de la Hessiana:\n",
            "Min: 1.47e-05   Media: 2.36e-05    Max: 5.00e-05\n",
            "\n",
            "Función Rosenbrock, dim=2, h2:\n",
            "\n",
            "Errores relativos en el cálculo de la Hessiana:\n",
            "Min: 1.06e-05   Media: 2.05e-05    Max: 3.10e-05\n",
            "\n",
            "Función Rosenbrock, dim=20, h2:\n",
            "\n",
            "Errores relativos en el cálculo de la Hessiana:\n",
            "Min: 1.44e-05   Media: 2.38e-05    Max: 4.00e-05\n",
            "\n",
            "Función Rosenbrock, dim=40, h2:\n",
            "\n",
            "Errores relativos en el cálculo de la Hessiana:\n",
            "Min: 4.30e-05   Media: 6.52e-05    Max: 9.62e-05\n"
          ]
        }
      ],
      "source": [
        "print(\"Función cuadrática 1, dim=10, h2:\")\n",
        "errorRelativo_hess(lambda x: quadratic(x, A1, b1), hess, lambda x: Hes_quadratic(x, A1, b1), 10, n, h[1])\n",
        "print(\"\\nFunción cuadrática 1, dim=100, h2:\")\n",
        "errorRelativo_hess(lambda x: quadratic(x, A2, b2), hess, lambda x: Hes_quadratic(x, A2, b2),100, n, h[1])\n",
        "#print(\"\\nFunción cuadrática 1, dim=1000, h2:\")\n",
        "#errorRelativo_hess(lambda x: quadratic(x, A3, b3), hess, lambda x: Hes_quadratic(x, A3, b3),1000, n, h[1])\n",
        "print(\"\\nFunción cuadrática 12, dim=10, h2:\")\n",
        "errorRelativo_hess(lambda x: quadratic(x, A4, b4), hess, lambda x: Hes_quadratic(x, A4, b4),10, n, h[1])\n",
        "print(\"\\nFunción cuadrática 12, dim=100, h2:\")\n",
        "errorRelativo_hess(lambda x: quadratic(x, A5, b5), hess, lambda x: Hes_quadratic(x, A5, b5),100, n, h[1])\n",
        "#print(\"\\nFunción cuadrática 12, dim=1000, h2:\")\n",
        "#errorRelativo_hess(lambda x: quadratic(x, A6, b6), hess, lambda x: Hes_quadratic(x, A6, b6),1000, n, h[1])\n",
        "print(\"\\nFunción Beale, h2:\")\n",
        "errorRelativo_hess(beale, hess, Hes_beale, 2, n, h[1])\n",
        "print(\"\\nFunción Himmelbleau, h2:\")\n",
        "errorRelativo_hess(himmelblau, hess, Hes_himmelbleau,2, n, h[1])\n",
        "print(\"\\nFunción Rosenbrock, dim=2, h2:\")\n",
        "errorRelativo_hess(rosenbrock, hess, Hes_rosenbrook,2, n, h[1])\n",
        "print(\"\\nFunción Rosenbrock, dim=20, h2:\")\n",
        "errorRelativo_hess(rosenbrock, hess, Hes_rosenbrook,20, n, h[1])\n",
        "print(\"\\nFunción Rosenbrock, dim=40, h2:\")\n",
        "errorRelativo_hess(rosenbrock, hess, Hes_rosenbrook,40, n, h[1])"
      ]
    },
    {
      "cell_type": "markdown",
      "metadata": {
        "id": "Q8AyT2W3JGew"
      },
      "source": [
        "Para el tercer valor de $h$:"
      ]
    },
    {
      "cell_type": "code",
      "execution_count": null,
      "metadata": {
        "colab": {
          "background_save": true
        },
        "id": "Vsl-ngZlJJ5N",
        "outputId": "e68eae22-e3e7-476d-b877-fa655d0165c2"
      },
      "outputs": [
        {
          "name": "stdout",
          "output_type": "stream",
          "text": [
            "Función cuadrática 1, dim=10, h3:\n",
            "\n",
            "Errores relativos en el cálculo de la Hessiana:\n",
            "Min: 1.60e-03   Media: 4.08e-03    Max: 6.52e-03\n",
            "\n",
            "Función cuadrática 1, dim=100, h3:\n",
            "\n",
            "Errores relativos en el cálculo de la Hessiana:\n",
            "Min: 7.77e-02   Media: 1.84e-01    Max: 3.74e-01\n",
            "\n",
            "Función cuadrática 12, dim=10, h3:\n",
            "\n",
            "Errores relativos en el cálculo de la Hessiana:\n",
            "Min: 8.12e-04   Media: 2.80e-03    Max: 9.10e-03\n",
            "\n",
            "Función cuadrática 12, dim=100, h3:\n",
            "\n",
            "Errores relativos en el cálculo de la Hessiana:\n",
            "Min: 5.12e-02   Media: 6.85e-02    Max: 1.16e-01\n",
            "\n",
            "Función Beale, h3:\n",
            "\n",
            "Errores relativos en el cálculo de la Hessiana:\n",
            "Min: 5.26e-05   Media: 4.69e-04    Max: 1.51e-03\n",
            "\n",
            "Función Himmelbleau, h3:\n",
            "\n",
            "Errores relativos en el cálculo de la Hessiana:\n",
            "Min: 3.56e-04   Media: 1.52e-03    Max: 2.64e-03\n",
            "\n",
            "Función Rosenbrock, dim=2, h3:\n",
            "\n",
            "Errores relativos en el cálculo de la Hessiana:\n",
            "Min: 1.56e-06   Media: 8.48e-05    Max: 2.41e-04\n",
            "\n",
            "Función Rosenbrock, dim=20, h3:\n",
            "\n",
            "Errores relativos en el cálculo de la Hessiana:\n",
            "Min: 9.52e-04   Media: 1.97e-03    Max: 4.34e-03\n",
            "\n",
            "Función Rosenbrock, dim=40, h3:\n",
            "\n",
            "Errores relativos en el cálculo de la Hessiana:\n",
            "Min: 2.64e-03   Media: 5.58e-03    Max: 8.55e-03\n"
          ]
        }
      ],
      "source": [
        "print(\"Función cuadrática 1, dim=10, h3:\")\n",
        "errorRelativo_hess(lambda x: quadratic(x, A1, b1), hess, lambda x: Hes_quadratic(x, A1, b1), 10, n, h[2])\n",
        "print(\"\\nFunción cuadrática 1, dim=100, h3:\")\n",
        "errorRelativo_hess(lambda x: quadratic(x, A2, b2), hess, lambda x: Hes_quadratic(x, A2, b2),100, n, h[2])\n",
        "#print(\"\\nFunción cuadrática 1, dim=1000, h3:\")\n",
        "#errorRelativo_hess(lambda x: quadratic(x, A3, b3), hess, lambda x: Hes_quadratic(x, A3, b3),1000, n, h[2])\n",
        "print(\"\\nFunción cuadrática 12, dim=10, h3:\")\n",
        "errorRelativo_hess(lambda x: quadratic(x, A4, b4), hess, lambda x: Hes_quadratic(x, A4, b4),10, n, h[2])\n",
        "print(\"\\nFunción cuadrática 12, dim=100, h3:\")\n",
        "errorRelativo_hess(lambda x: quadratic(x, A5, b5), hess, lambda x: Hes_quadratic(x, A5, b5),100, n, h[2])\n",
        "#print(\"\\nFunción cuadrática 12, dim=1000, h3:\")\n",
        "#errorRelativo_hess(lambda x: quadratic(x, A6, b6), hess, lambda x: Hes_quadratic(x, A6, b6),1000, n, h[2])\n",
        "print(\"\\nFunción Beale, h3:\")\n",
        "errorRelativo_hess(beale, hess, Hes_beale, 2, n, h[2])\n",
        "print(\"\\nFunción Himmelbleau, h3:\")\n",
        "errorRelativo_hess(himmelblau, hess, Hes_himmelbleau,2, n, h[2])\n",
        "print(\"\\nFunción Rosenbrock, dim=2, h3:\")\n",
        "errorRelativo_hess(rosenbrock, hess, Hes_rosenbrook,2, n, h[2])\n",
        "print(\"\\nFunción Rosenbrock, dim=20, h3:\")\n",
        "errorRelativo_hess(rosenbrock, hess, Hes_rosenbrook,20, n, h[2])\n",
        "print(\"\\nFunción Rosenbrock, dim=40, h3:\")\n",
        "errorRelativo_hess(rosenbrock, hess, Hes_rosenbrook,40, n, h[2])"
      ]
    },
    {
      "cell_type": "markdown",
      "metadata": {
        "id": "s-fA0bXWJPLb"
      },
      "source": [
        "Para el cuarto valor de $h$:"
      ]
    },
    {
      "cell_type": "code",
      "execution_count": null,
      "metadata": {
        "colab": {
          "background_save": true
        },
        "id": "xydJp5DKJRnJ",
        "outputId": "ba59dee3-9756-45d2-aa30-5d9b5eca0cc9"
      },
      "outputs": [
        {
          "name": "stdout",
          "output_type": "stream",
          "text": [
            "Función cuadrática 1, dim=10, h4:\n",
            "\n",
            "Errores relativos en el cálculo de la Hessiana:\n",
            "Min: 9.58e-02   Media: 2.60e-01    Max: 5.63e-01\n",
            "\n",
            "Función cuadrática 1, dim=100, h4:\n",
            "\n",
            "Errores relativos en el cálculo de la Hessiana:\n",
            "Min: 7.93e+00   Media: 1.40e+01    Max: 2.09e+01\n",
            "\n",
            "Función cuadrática 12, dim=10, h4:\n",
            "\n",
            "Errores relativos en el cálculo de la Hessiana:\n",
            "Min: 4.35e-02   Media: 3.10e-01    Max: 1.03e+00\n",
            "\n",
            "Función cuadrática 12, dim=100, h4:\n",
            "\n",
            "Errores relativos en el cálculo de la Hessiana:\n",
            "Min: 3.56e+00   Media: 6.34e+00    Max: 1.25e+01\n",
            "\n",
            "Función Beale, h4:\n",
            "\n",
            "Errores relativos en el cálculo de la Hessiana:\n",
            "Min: 1.27e-03   Media: 2.40e-02    Max: 1.42e-01\n",
            "\n",
            "Función Himmelbleau, h4:\n",
            "\n",
            "Errores relativos en el cálculo de la Hessiana:\n",
            "Min: 4.49e-02   Media: 1.46e-01    Max: 2.57e-01\n",
            "\n",
            "Función Rosenbrock, dim=2, h4:\n",
            "\n",
            "Errores relativos en el cálculo de la Hessiana:\n",
            "Min: 4.63e-04   Media: 9.05e-03    Max: 2.65e-02\n",
            "\n",
            "Función Rosenbrock, dim=20, h4:\n",
            "\n",
            "Errores relativos en el cálculo de la Hessiana:\n",
            "Min: 9.88e-02   Media: 2.20e-01    Max: 3.63e-01\n",
            "\n",
            "Función Rosenbrock, dim=40, h4:\n",
            "\n",
            "Errores relativos en el cálculo de la Hessiana:\n",
            "Min: 2.80e-01   Media: 5.91e-01    Max: 1.18e+00\n"
          ]
        }
      ],
      "source": [
        "print(\"Función cuadrática 1, dim=10, h4:\")\n",
        "errorRelativo_hess(lambda x: quadratic(x, A1, b1), hess, lambda x: Hes_quadratic(x, A1, b1), 10, n, h[3])\n",
        "print(\"\\nFunción cuadrática 1, dim=100, h4:\")\n",
        "errorRelativo_hess(lambda x: quadratic(x, A2, b2), hess, lambda x: Hes_quadratic(x, A2, b2),100, n, h[3])\n",
        "#print(\"\\nFunción cuadrática 1, dim=1000, h4:\")\n",
        "#errorRelativo_hess(lambda x: quadratic(x, A3, b3), hess, lambda x: Hes_quadratic(x, A3, b3),1000, n, h[3])\n",
        "print(\"\\nFunción cuadrática 12, dim=10, h4:\")\n",
        "errorRelativo_hess(lambda x: quadratic(x, A4, b4), hess, lambda x: Hes_quadratic(x, A4, b4),10, n, h[3])\n",
        "print(\"\\nFunción cuadrática 12, dim=100, h4:\")\n",
        "errorRelativo_hess(lambda x: quadratic(x, A5, b5), hess, lambda x: Hes_quadratic(x, A5, b5),100, n, h[3])\n",
        "#print(\"\\nFunción cuadrática 12, dim=1000, h4:\")\n",
        "#errorRelativo_hess(lambda x: quadratic(x, A6, b6), hess, lambda x: Hes_quadratic(x, A6, b6),1000, n, h[3])\n",
        "print(\"\\nFunción Beale, h4:\")\n",
        "errorRelativo_hess(beale, hess, Hes_beale, 2, n, h[3])\n",
        "print(\"\\nFunción Himmelbleau, h4:\")\n",
        "errorRelativo_hess(himmelblau, hess, Hes_himmelbleau,2, n, h[3])\n",
        "print(\"\\nFunción Rosenbrock, dim=2, h4:\")\n",
        "errorRelativo_hess(rosenbrock, hess, Hes_rosenbrook,2, n, h[3])\n",
        "print(\"\\nFunción Rosenbrock, dim=20, h4:\")\n",
        "errorRelativo_hess(rosenbrock, hess, Hes_rosenbrook,20, n, h[3])\n",
        "print(\"\\nFunción Rosenbrock, dim=40, h4:\")\n",
        "errorRelativo_hess(rosenbrock, hess, Hes_rosenbrook,40, n, h[3])"
      ]
    },
    {
      "cell_type": "markdown",
      "metadata": {
        "id": "ks4MCmMK7yZg"
      },
      "source": [
        "En cuanto al valor que es más conveniente usar de $h$ para las aproximaciones, podemos notar que para los tres primeros valores la aproximación parece mejorar conforme el paso es más pequeño, resultando en una buena aproximación para el gradiente aún con el valor de $h=1e-8$, sin embargo para la Hessiana, si bien comienza de la misma forma, es decir, mejora la aproximación conforme el valor de $h$ se hace más chico, al tomar el valor más chico de los sugeridos la Hessiana logra sus peores resultados. Esto se debe mayormente al error numérico de la división por $h^2$ en la Hessiana, pues al ser un valor tan pequeño, y aún más elevado al cuadrado (que lo hace ser aún más pequeño), el error crece mucho más."
      ]
    },
    {
      "cell_type": "markdown",
      "metadata": {
        "id": "Xdk_4oSrXEoj"
      },
      "source": [
        "\n",
        "```\n",
        "\n",
        "\n",
        "```\n",
        "---"
      ]
    },
    {
      "cell_type": "markdown",
      "metadata": {
        "id": "SfeVzfm1XEol"
      },
      "source": [
        "## Ejercicio 3 (3 puntos)\n",
        "\n",
        "Seleccionar un artículo para el proyecto final.\n",
        "\n",
        "- El proyecto final se puede presentar de manera individual o en equipo\n",
        "  formado por dos estudiantes.\n",
        "- La entrega del proyecto consiste programar el algoritmo descrito\n",
        "  en el artículo seleccionado y realizar pruebas para reproducir algunos resultados\n",
        "  presentados en el artículo o diseñar los experimentos de prueba. El objetivo es\n",
        "  mostrar las ventajas o limitaciones que tiene el algoritmo propuesto.\n",
        "- Es válido delimitar el alcance, de manera que si aparecen varios algoritmos\n",
        "  en el artículo, se puede seleccionar alguno de ellos para su implementación y validación.\n",
        "- Hay que elaborar un reporte en el que se dé una introducción,\n",
        "  algunos fundamentos teóricos, el planteamiento del problema, la descripción del algoritmo,\n",
        "  los resultados obtenidos y las conclusiones.\n",
        "- Hay que hacer una presentación de unos 15 minutos en el día acordado y\n",
        "  entregar el reporte, el código y las pruebas realizadas.\n",
        "- Se puede entregar un notebook como el reporte y usarlo en la presentación,\n",
        "  para que no tener que elaborar un documento con el reporte, otro con el script\n",
        "  del código y pruebas y otro para la presentación.\n",
        "- Habrá dos fechas de entrega. La primera fecha es para los estudiantes de posgrado\n",
        "  que será entre el 27 de mayo y el 4 de junio. La segunda fecha es para los estudiantes\n",
        "  de licenciatura que será entre el 3 de junio y el 10 de junio.\n",
        "- Si el equipo está formado por un estudiante de licenciatura y otro de posgrado\n",
        "  tendrá que presentar el proyecto en la primera fecha.\n",
        "- Para la selección se puede tomar uno de los artículos de la lista\n",
        "  que se presenta a continuación.\n",
        "- Estos artículos son una referencia. También pueden proponer algún artículo adicional,\n",
        "  pero recomienda que cuiden que para entenderlo no tengan que revisar otras fuentes\n",
        "  o que tengan que implementar algoritmos que requieran de temas que no fueron cubiertos\n",
        "  en el curso y que les consuma demasiado tiempo hacer esa revisión, por ejemplo,\n",
        "  en temas de optimización combinatoria, entera, mixta, multiobjetivo, etc.\n",
        "\n",
        "1. Escriba el nombre de los miembros del equipo junto con el nombre del programa académico.\n",
        "2. Escriba el título del artículo seleccionado\n",
        "3. Si no es un artículo de la lista o que esté en el Classroom, agregue el PDF\n",
        "   como parte de la entrega de la Tarea 7.\n",
        "   \n",
        "------\n",
        "\n",
        "### Lista de artículos\n",
        "\n",
        "1. An improvement of the Goldstein line search. <br>\n",
        "   Arnold NeumaierMorteza Kimiaei. 2023.<br>\n",
        "   https://optimization-online.org/2022/11/an-efficient-gradient-free-line-search/\n",
        "2. A harmonic framework for stepsize selection in gradient methods.<br>\n",
        "   Giulia FerrandiMichiel E. HochstenbachNataša Krejić. 2022.<br>\n",
        "   https://optimization-online.org/2022/02/8803/\n",
        "3. An Adaptive Trust-Region Method Without Function Evaluations.<br>\n",
        "   Geovani Nunes GrapigliaGabriel Stella. 2022.<br>\n",
        "   https://optimization-online.org/2022/02/8787/\n",
        "4. Accelerated Scaled Memory-less SR1 method for Unconstrained Optimization.<br>\n",
        "   Neculai Andrei. 2021.<br>\n",
        "   https://camo.ici.ro/neculai/XXITR5.pdf\n",
        "5. Secant Penalized BFGS: A Noise Robust Quasi-Newton Method Via Penalizing The Secant Condition.<br>\n",
        "   Brian Irwin, Eldad Haber. <br>\n",
        "   https://arxiv.org/abs/2010.01275\n",
        "6. Regularized Step Directions in Nonlinear Conjugate Gradient Methods.<br>\n",
        "   Cassidy K. Buhler, Hande Y. Benson, David F. Shanno. 2023.<br>\n",
        "   https://arxiv.org/abs/2110.06308\n",
        "7. A Levenberg-Marquardt Method for Nonsmooth Regularized Least Squares.<br>\n",
        "   Aleksandr Y. Aravkin, Robert Baraldi, Dominique Orban. 2023.<br>\n",
        "   https://arxiv.org/abs/2301.02347\n",
        "8. Globally linearly convergent nonlinear conjugate gradients without Wolfe line search.<br>\n",
        "   Arnold NeumaierMorteza KimiaeiBehzad Azmi. 2023.<br>\n",
        "   https://optimization-online.org/2022/12/globally-linearly-convergent-nonlinear-conjugate-gradients-without-wolfe-line-search/\n",
        "9. A nonlinear conjugate gradient method with complexity guarantees and its application to nonconvex regression.<br>\n",
        "   Rémi Chan--Renous-Legoubin, Clément W. Royer. 2022.<br>\n",
        "   https://arxiv.org/abs/2201.08568\n",
        "10. Iteration Complexity of Fixed-Step Methods by Nesterov and Polyak for Convex Quadratic Functions.<br>\n",
        "    Melinda Hagedorn, Florian Jarre. 2022. <br>\n",
        "    https://arxiv.org/abs/2211.10234\n",
        "11. Subsampled cubic regularization method for finite-sum minimization.<br>\n",
        "    Max L. N. Gonçalves. 2022.<br>\n",
        "    https://files.cercomp.ufg.br/weby/up/922/o/Inexact_CNMSubsampled16November2022.pdf\n",
        "12. Optimized convergence of stochastic gradient descent by weighted averaging.<br>\n",
        "    Melinda Hagedorn, Florian Jarre. 2022. <br>\n",
        "    https://arxiv.org/abs/2209.14092\n",
        "13. Two efficient gradient methods with approximately optimal stepsizes based on regularization models for unconstrained optimization. <br>\n",
        "    Zexian Liu, Wangli Chu, Hongwei Liu. <br>\n",
        "    https://arxiv.org/abs/1907.01794\n",
        "14. A Trust Region Method for the Optimization of Noisy Functions.<br>\n",
        "    Shigeng Sun, Jorge Nocedal. 2022.<br>\n",
        "    https://arxiv.org/abs/2201.00973\n",
        "15. A modified quasi-Newton method for nonlinear equations. <br>\n",
        "    Xiaowei Fang, Qin Ni, Meilan Zeng. 2018. <br>\n",
        "    https://drive.google.com/file/d/13s8ey-LVioDjx3BFksWTUzccRXV9sEbG/view?usp=sharing\n",
        "16. A minibatch stochastic Quasi-Newton method adapted for nonconvex deep learning problems. <br>\n",
        "    Joshua D. GriffinMajid JahaniMartin TakacSeyedalireza YektamaramWenwen Zhou. 2022. <br>\n",
        "    https://optimization-online.org/2022/01/8760/\n",
        "17. Nonlinear conjugate gradient for smooth convex functions. <br>\n",
        "    Sahar Karimi, Stephen Vavasis. 2024.\n",
        "    https://arxiv.org/abs/2111.11613\n",
        "18. Quadratic Regularization Methods with Finite-Difference Gradient Approximations. <br>\n",
        "    Geovani Nunes Grapiglia. 2021. <br>\n",
        "    https://optimization-online.org/wp-content/uploads/2021/11/8665.pdf\n",
        "19. Adaptive Finite-Difference Interval Estimation for Noisy Derivative-Free Optimization. <br>\n",
        "    Hao-Jun Michael Shi, Yuchen Xie, Melody Qiming Xuan, Jorge Nocedal. 2021.<br>\n",
        "    https://arxiv.org/abs/2110.06380\n",
        "20. Full-low evaluation methods for derivative-free optimization. <br>\n",
        "    Albert S. Berahas, Luis Nunes, Vicente Oumaima Sohab. 2021.\n",
        "    https://arxiv.org/abs/2107.11908\n",
        "21. A stochastic first-order trust-region method with inexact restoration for finite-sum minimization.<br>\n",
        "    Stefania Bellavia, Natasa Krejic, Benedetta Morini, Simone Rebegoldi. 2022.<br>\n",
        "    https://arxiv.org/abs/2107.03129\n",
        "22. Robust Conjugate Gradient Methods for Non-smooth Convex Optimization and Image Processing Problems.<br>\n",
        "    Salar Farahmand-Tabar, Fahimeh Abdollahi, and Masoud Fatemi. <br>\n",
        "    https://drive.google.com/file/d/1ItSZ_7N0QKJLvqI8jhyAKU532oxWMmwg/view?usp=sharing\n",
        "23. A family of hybrid conjugate gradient method with restart procedure for\n",
        "    unconstrained optimizations and image restorations.<br>\n",
        "    Xianzhen Jiang, Xiaomin Ye, Zefeng Huang, Meixing Liu. 2023<br>\n",
        "    https://drive.google.com/file/d/1h1TQpydDxkYBF0G_jd7O7-9J69X-V-dI/view?usp=sharing\n",
        "24. A modified Broyden-like quasi-Newton method for nonlinear equations. <br>\n",
        "    Weijun Zhou, Li Zhang. 2020. <br>\n",
        "    https://drive.google.com/file/d/152StQd3SVdNUXRSSboABFpjHbqEVxUP9/view?usp=sharing\n",
        "\n",
        "### Respuesta:"
      ]
    },
    {
      "cell_type": "markdown",
      "metadata": {
        "id": "bWuW1F_sXEon"
      },
      "source": [
        "#Integrantes de equipo:\n",
        "1. Jaime Alejandro Stack Sánchez\n",
        "2. Angel Antonio Mendez Hernández\n",
        "\n",
        "Maestría en computación.\n",
        "##Artículo:\n",
        "A modified Broyden-like quasi-Newton method for nonlinear equations. <br>\n",
        "    Weijun Zhou, Li Zhang. 2020. <br>\n",
        "    https://drive.google.com/file/d/152StQd3SVdNUXRSSboABFpjHbqEVxUP9/view?usp=sharing\n",
        "\n",
        "\n",
        "\n",
        "\n"
      ]
    },
    {
      "cell_type": "markdown",
      "metadata": {
        "id": "JdAY3DMAXEon"
      },
      "source": [
        "\n",
        "```\n",
        "\n",
        "\n",
        "```\n",
        "---"
      ]
    }
  ],
  "metadata": {
    "colab": {
      "provenance": []
    },
    "kernelspec": {
      "display_name": "Python 3 (ipykernel)",
      "language": "python",
      "name": "python3"
    },
    "language_info": {
      "codemirror_mode": {
        "name": "ipython",
        "version": 3
      },
      "file_extension": ".py",
      "mimetype": "text/x-python",
      "name": "python",
      "nbconvert_exporter": "python",
      "pygments_lexer": "ipython3",
      "version": "3.12.1"
    }
  },
  "nbformat": 4,
  "nbformat_minor": 0
}