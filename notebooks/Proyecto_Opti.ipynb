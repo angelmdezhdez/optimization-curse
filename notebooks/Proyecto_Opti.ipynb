{
  "nbformat": 4,
  "nbformat_minor": 0,
  "metadata": {
    "colab": {
      "provenance": []
    },
    "kernelspec": {
      "name": "python3",
      "display_name": "Python 3"
    },
    "language_info": {
      "name": "python"
    }
  },
  "cells": [
    {
      "cell_type": "markdown",
      "source": [
        "# A modified Broyden-like quasi-Newton method for nonlinear equations.\n",
        "## Presentado por:\n",
        "- Jaime Alejandro Stack Sánchez\n",
        "- Angel Antonio Méndez Hernández\n",
        "## Resumen.\n",
        "\n",
        "En este trabajo presentamos la implementación del método propuesto en el paper *A modified Broyden-like quasi-Newton method for nonlinear equations* propuesto por Weijun Zhou y Li Zhang y lo comparámos con el método propuesto por Li y Fukushima además de una versión simplificada de este mismo. Encontrámos mejoras significativas en funciones que suelen sufrir de desbordamiento.\n",
        "\n"
      ],
      "metadata": {
        "id": "kDkYOWMqva8m"
      }
    },
    {
      "cell_type": "markdown",
      "source": [
        "## Marco teórico\n",
        "La familia de métodos de Broyden para resolver ecuaciones no lineales tienen la estructura \\begin{equation}\n",
        "\\tag{1}\n",
        "x_{k+1} = x_k + d_k^B, \\quad d_k^B = -B_k^{-1}F_k\n",
        "\\end{equation}\n",
        "donde $B_k$ se actualiza dada la fórmula de Broyden \\begin{equation}\n",
        "\\tag{2}\n",
        "B_{k+1} = B_k+\\theta_k\\dfrac{(y_k-B_ks_k)s_k^t}{\\Vert s_k\\Vert^2}, \\quad s_k=x_{k+1} -x_k,\\quad y_k = F_{k+1} -F_k\n",
        "\\end{equation}\n",
        "donde $\\theta_k$ se elige tal que $|\\theta_k-1|\\leq \\theta$ y $B_{k+1}$ es no singular para $\\theta\\in (0,1)$.\n",
        "\n",
        "En la siguiente modificación del método se propone cambiar (1) por \\begin{equation}\n",
        "\\tag{3}\n",
        "x_{k+1} = x_k + d_k, \\quad d_k = d_k^B + d_k^{MB}\n",
        "\\end{equation}\n",
        "donde \\begin{equation}\n",
        "\\tag{4}\n",
        "d_k^B = -B_k^{-1}F_k,\\quad d_k^{MB} = -B_k^{-1}F(z_k), \\quad z_k = x_k + d_k\n",
        "\\end{equation} con las mismas actualizaciones para $B_{k}$ como en (2).\n",
        "\n",
        "Además, se ultiliza una forma de búsqueda en línea libre de derivadas, propuesta igualmente por Li y Fukushima que aplicada al método de Broyden tiene convergencia global y superlineal."
      ],
      "metadata": {
        "id": "axkJc_z8wo2x"
      }
    },
    {
      "cell_type": "markdown",
      "source": [
        "## Pseudocódigo del método modificado."
      ],
      "metadata": {
        "id": "UYBMZ2uX54gh"
      }
    },
    {
      "cell_type": "markdown",
      "source": [
        "![](https://drive.google.com/uc?id=1qkh5NkJB3RyUkDWH47REZG6SZSgJjG-x)\n",
        "![](https://drive.google.com/uc?id=1UwryGP2VJxooIOxigHODvXgJZdnfXEKy)\n",
        "![](https://drive.google.com/uc?id=1Q0LNN3Y-2wP_QE9eWxXVFQPK2snN5mey)\n"
      ],
      "metadata": {
        "id": "AHobMwTS4Pwn"
      }
    },
    {
      "cell_type": "markdown",
      "source": [
        "## Convergencia"
      ],
      "metadata": {
        "id": "1CarcidC_lwj"
      }
    },
    {
      "cell_type": "markdown",
      "source": [
        "![](https://drive.google.com/uc?id=1jUvM5nCj5GvzN2oB7AD8q5u8xG2YmbP8)\n",
        "![](https://drive.google.com/uc?id=1ARCwIVPSsdmAB8uQB8L1AzsvTVmgJNXM)\n",
        "![](https://drive.google.com/uc?id=1DSrMDvakP79jExSgMxwNxmXulLBNLZul)"
      ],
      "metadata": {
        "id": "kMud0Ts3-M8S"
      }
    },
    {
      "cell_type": "markdown",
      "source": [
        "Sobre la condición de independencia uniformemente lineal:\n",
        "\n",
        "Para un $\\eta >0$ y un conjunto de indices $\\{k_i\\}_{i=1}^n$ se tiene que$$\\sigma_\\min(Q_k) \\geq \\mu$$donde $Q_k = \\left( \\frac{s_{k_1}}{||s_{k_1}||}, \\frac{s_{k_2}}{||s_{k_2}||}, ..., \\frac{s_{k_n}}{||s_{k_n}||}\\right)$."
      ],
      "metadata": {
        "id": "5sUobHyalx-D"
      }
    },
    {
      "cell_type": "markdown",
      "source": [
        "## Código\n",
        "\n"
      ],
      "metadata": {
        "id": "s-co6edg_und"
      }
    },
    {
      "cell_type": "code",
      "source": [
        "import numpy as np\n",
        "from prettytable import PrettyTable"
      ],
      "metadata": {
        "id": "pWMRYAoNBUep"
      },
      "execution_count": null,
      "outputs": []
    },
    {
      "cell_type": "code",
      "source": [
        "def bt(x, d, fnc, fk, r, s2, e, maxIter = 1000):\n",
        "  a = 1\n",
        "  counter = 1\n",
        "  while ((np.linalg.norm(fnc(x+a*d)) > fk - s2*np.dot(d,d)*(a**2.0) + e*fk) and (counter <= maxIter)):\n",
        "    counter += 1\n",
        "    a*=r\n",
        "  return a"
      ],
      "metadata": {
        "id": "gmehjLMzn0an"
      },
      "execution_count": null,
      "outputs": []
    },
    {
      "cell_type": "code",
      "execution_count": null,
      "metadata": {
        "id": "v-1Or_Rd8tue"
      },
      "outputs": [],
      "source": [
        "# Método de Broyden \"Normal\"\n",
        "def broyden(fnc, x0, B0, theta, tol, maxIter):\n",
        "  xk = x0.copy()\n",
        "  Bk = B0.copy()\n",
        "  fk = fnc(xk)\n",
        "  for k in range(maxIter):\n",
        "    normfk = np.linalg.norm(fk)\n",
        "    if normfk < tol:\n",
        "      return xk, normfk, k+1, True\n",
        "    # Calculamos dirección de movimiento\n",
        "    if np.linalg.det(Bk) != 0:\n",
        "      dk = np.linalg.solve(Bk, -fk)\n",
        "    else:\n",
        "      print(\"Terminamos por singularidad de matriz\")\n",
        "      return xk, normfk, k+1, True\n",
        "    # Calculamos nuevo punto.\n",
        "    xk1 = xk + dk\n",
        "    # Actualizamos B\n",
        "    fk1 = fnc(xk1)\n",
        "    yk = fk1 - fk\n",
        "    Bk = Bk + theta*np.outer(((yk - Bk@dk)/np.dot(dk, dk)),dk)\n",
        "    # Actualizamos fk y xk\n",
        "    xk = xk1\n",
        "    fk = fk1\n",
        "  return xk, np.linalg.norm(fnc(xk)), maxIter, False"
      ]
    },
    {
      "cell_type": "code",
      "source": [
        "# Método de Broyden con tamaño de paso\n",
        "# args = s1, s2, t, r, rho\n",
        "def broyden_step(fnc, x0, B0, theta, tol, maxIter, *args):\n",
        "  xk =  x0.copy()\n",
        "  Bk = B0.copy()\n",
        "  fk = fnc(xk)\n",
        "  for k in range(maxIter):\n",
        "    aux1 = np.linalg.norm(fk)\n",
        "    if aux1 < tol:\n",
        "      return xk, aux1, k+1, True\n",
        "    # Calculamos dirección de movimiento y tamaño de paso\n",
        "    if np.linalg.det(Bk) != 0:\n",
        "      dk = np.linalg.solve(Bk, -fk)\n",
        "    else:\n",
        "      print(\"Matriz singular\")\n",
        "      return xk, aux1, k+1, True\n",
        "    zk =  xk + dk\n",
        "    fzk = fnc(zk)\n",
        "    if np.linalg.norm(fzk) <= args[4]*aux1 - args[1]*np.dot(dk, dk):\n",
        "      ak = 1\n",
        "    else:\n",
        "      e = 1.0/(k+1)**2\n",
        "      ak = bt(xk, dk, fnc, aux1, args[3], args[1], e)\n",
        "    # Obtenemos el nuevo xk\n",
        "    xk1 = xk + ak*dk\n",
        "    fk1 = fnc(xk1)\n",
        "    yk = fk1 - fk\n",
        "    sk = xk1 - xk\n",
        "    Bk = Bk + theta*np.outer(((yk - Bk@sk)/np.dot(sk, sk)),sk)\n",
        "    # Actualizamos fk y xk\n",
        "    xk = xk1\n",
        "    fk = fk1\n",
        "  return xk, np.linalg.norm(fnc(xk)), maxIter, False"
      ],
      "metadata": {
        "id": "E72SjFCPWbKO"
      },
      "execution_count": null,
      "outputs": []
    },
    {
      "cell_type": "code",
      "source": [
        "# Método de Broyden Modificado\n",
        "# args = s1, s2, t, r, rho\n",
        "def broyden_modified(fnc, x0, B0, theta, tol, maxIter, *args):\n",
        "  xk =  x0.copy()\n",
        "  Bk = B0.copy()\n",
        "  fk = fnc(xk)\n",
        "  counter = 0\n",
        "  for k in range(maxIter):\n",
        "    aux1 = np.linalg.norm(fk)\n",
        "    if aux1 < tol:\n",
        "      return xk, aux1, k+1, True, counter\n",
        "    # Calculamos dirección de movimiento y tamaño de paso\n",
        "    if np.linalg.det(Bk) != 0:\n",
        "      dk1 = np.linalg.solve(Bk, -fk)\n",
        "    else:\n",
        "      print(\"Matriz singular\")\n",
        "      return xk, aux1, k+1, True, counter\n",
        "    zk =  xk + dk1\n",
        "    fzk = fnc(zk)\n",
        "    # Paso 3\n",
        "    if np.linalg.norm(fzk) > args[2]*aux1:\n",
        "      dk = dk1\n",
        "      aux2 = (np.linalg.norm(fnc(xk+dk)) <= args[4]*aux1 - args[0]*np.dot(dk,dk))\n",
        "      if aux2:\n",
        "        ak = 1\n",
        "      else:\n",
        "        e = 1.0/(k+1)**2\n",
        "        ak = bt(xk, dk, fnc, aux1, args[3], args[1], e)\n",
        "    else:\n",
        "      if np.linalg.det(Bk) != 0:\n",
        "        dk2 = np.linalg.solve(Bk, -fzk)\n",
        "      else:\n",
        "        print(\"Matriz singular\")\n",
        "        return xk, aux1, k+1, True, counter\n",
        "      aux = (np.linalg.norm(fnc(xk + dk1 + dk2)) <= args[4]*aux1 - args[0]*np.dot(dk1+dk2, dk1+dk2))\n",
        "      if aux:\n",
        "        dk = dk1+ dk2\n",
        "        counter += 1\n",
        "        ak = 1\n",
        "      else:\n",
        "        dk = dk1\n",
        "        aux2 = (np.linalg.norm(fnc(xk+dk)) <= args[4]*aux1 - args[0]*np.dot(dk,dk))\n",
        "        if aux2:\n",
        "          ak = 1\n",
        "        else:\n",
        "          e = 1.0/(k+1)**2\n",
        "          ak = bt(xk, dk, fnc, aux1, args[3], args[1], e)\n",
        "    # Obtenemos el nuevo xk\n",
        "    xk1 = xk + ak*dk\n",
        "    fk1 = fnc(xk1)\n",
        "    yk = fk1 - fk\n",
        "    sk = xk1 - xk\n",
        "    Bk = Bk + theta*np.outer(((yk - Bk@sk)/np.dot(sk, sk)),sk)\n",
        "    # Actualizamos fk y xk\n",
        "    xk = xk1\n",
        "    fk = fk1\n",
        "  return xk, np.linalg.norm(fnc(xk)), maxIter, False, counter"
      ],
      "metadata": {
        "id": "NOmCSXl_HemM"
      },
      "execution_count": null,
      "outputs": []
    },
    {
      "cell_type": "code",
      "source": [
        "def F1(x):\n",
        "  f1 = 10*(x[1]-x[0]**2)\n",
        "  f2 = 1-x[0]\n",
        "  return np.array([f1, f2])\n",
        "\n",
        "def JF1(x):\n",
        "  m1 = -20*x[0]\n",
        "  return np.array([[m1, 10.0], [-1, 0]])\n",
        "\n",
        "def F2(x):\n",
        "  f1 = x[0] + 10*x[1]\n",
        "  f2 = np.sqrt(5)*(x[2]-x[3])\n",
        "  f3= (x[1]-2*x[2])**2\n",
        "  f4 = np.sqrt(10)*(x[0]-x[3])**2\n",
        "  return np.array([f1,f2,f3,f4])\n",
        "\n",
        "def F3(x):\n",
        "  n = len(x)\n",
        "  c = 1\n",
        "  f = x.copy()\n",
        "  for i in range(1, n+1):\n",
        "    suma = 0\n",
        "    mui = (i-0.5)/n\n",
        "    for j in range(1, n+1):\n",
        "      suma += mui*x[j-1]/(mui + (j-0.5)/n)\n",
        "    f[i-1] -= 1/(1 - c*suma/(2*n))\n",
        "  return f\n",
        "\n",
        "def F4(x):\n",
        "  n = len(x)\n",
        "  M = 2*np.identity(n)\n",
        "  for i in range(1, n):\n",
        "    M[i-1][i] = M[i][i-1] = -1\n",
        "  sin = (np.sin(x) - 1)/(n+1)**2\n",
        "  return M@x + sin\n",
        "\n",
        "def F5(x):\n",
        "  n = len(x)\n",
        "  f = np.zeros(n)\n",
        "  f[0] = 2*x[0] + np.sin(x[0]) -1\n",
        "  f[-1] = 2*x[-1] + np.sin(x[-1]) -1\n",
        "  for i in range(1, n-1):\n",
        "    f[i] = -2*x[i-1] + 2*x[i] +np.sin(x[i]) -1\n",
        "  return f\n",
        "\n",
        "def F6(x):\n",
        "  n = len(x)\n",
        "  f = np.zeros(n)\n",
        "  f[0] = np.exp(x[0]) - 1\n",
        "  for i in range(2, n+1):\n",
        "    f[i-1] = i*(np.exp(x[i-1]) + x[i-2] -1)/10\n",
        "  return f\n",
        "\n",
        "def F7(x):\n",
        "  n = len(x)\n",
        "  f = np.zeros(n)\n",
        "  f[0] = x[0]*(x[0]**2 + x[1]**2) - 1\n",
        "  f[-1] = x[-1]*(x[-2]**2 + x[-1]**2)\n",
        "  for i in range(1, n-1):\n",
        "    f[i] = x[i]*(x[i-1]**2 +2*(x[i]**2) +x[i+1]**2)-1\n",
        "  return f"
      ],
      "metadata": {
        "id": "VGcp4-rrZjwH"
      },
      "execution_count": null,
      "outputs": []
    },
    {
      "cell_type": "code",
      "source": [
        "def print_results(beta, tol, maxIter, Bs, B_names, fnc, fnc_name, x0):\n",
        "  table = PrettyTable()\n",
        "  table.title = \"Resultados del método de Broyden con {}\".format(fnc_name)\n",
        "  table.field_names = [\"beta\", \"B_0\", \"M1 - Iter\", \"M1 - ||fk||\", \"M2 - Iter\", \"M2 - ||fk||\", \"M3 - Iter\", \"M3 - ||fk||\"]\n",
        "  for i, B in enumerate(Bs):\n",
        "    for b in beta:\n",
        "      x1 = (b*x0).copy()\n",
        "      x2 = (b*x0).copy()\n",
        "      B1 = B.copy()\n",
        "      B2 = B.copy()\n",
        "      sol1 = broyden(fnc, x1, B1, 1, tol, maxIter)\n",
        "      sol2 = broyden_step(fnc, x2, B2, 1, tol, maxIter, 0.1, 0.1, 1, 0.1, np.sqrt(0.9))\n",
        "      sol3 = broyden_modified(fnc, x2, B2, 1, tol, maxIter, 0.1, 0.1, 1, 0.1, np.sqrt(0.9))\n",
        "      table.add_row([b, B_names[i], sol1[2], sol1[1], sol2[2], sol2[1], sol3[2], sol3[1]])\n",
        "    table.add_row([\" \", \" \", \" \", \" \", \" \", \" \", \" \", \" \"])\n",
        "  print(table)"
      ],
      "metadata": {
        "id": "l8yFlFjYj0Ij"
      },
      "execution_count": null,
      "outputs": []
    },
    {
      "cell_type": "code",
      "source": [
        "def print_results1(beta, tol, maxIter, fnc, fnc_name, ns, opc = 1):\n",
        "  table = PrettyTable()\n",
        "  table.title = \"Resultados del método de Broyden con {}\".format(fnc_name)\n",
        "  table.field_names = [\"beta\", \"B_0\", \"n\", \"M1 - Iter\", \"M1 - ||fk||\", \"M2 - Iter\", \"M2 - ||fk||\", \"M3 - Iter\", \"M3 - ||fk||\", \"Nd\"]\n",
        "  for b in beta:\n",
        "    for n in ns:\n",
        "      B = np.identity(n)\n",
        "      if opc == 1:\n",
        "        x0 = np.array([1/i for i in range(1, n+1)])\n",
        "      else:\n",
        "        x0 = np.ones(n)\n",
        "      x1 = (b*x0).copy()\n",
        "      x2 = (b*x0).copy()\n",
        "      B1 = B.copy()\n",
        "      B2 = B.copy()\n",
        "      sol1 = broyden(fnc, x1, B1, 1, tol, maxIter)\n",
        "      sol2 = broyden_step(fnc, x2, B2, 1, tol, maxIter, 0.1, 0.1, 1, 0.1, np.sqrt(0.9))\n",
        "      sol3 = broyden_modified(fnc, x2, B2, 1, tol, maxIter, 0.1, 0.1, 1, 0.1, np.sqrt(0.9))\n",
        "      table.add_row([b, \"I\", n, sol1[2], sol1[1], sol2[2], sol2[1], sol3[2], sol3[1], sol3[4]])\n",
        "    table.add_row([\" \", \" \", \" \",\" \",\" \", \" \", \" \", \" \", \" \", \" \"])\n",
        "  print(table)"
      ],
      "metadata": {
        "id": "fLEAdyXQ3xDD"
      },
      "execution_count": null,
      "outputs": []
    },
    {
      "cell_type": "markdown",
      "source": [
        "#**Pruebas**\n",
        "Para estas primeras pruebas, consideramos lo siguiente:\n",
        "\n",
        "*   $Jx^*$ es la Jacobiana en la solución $x^*$.\n",
        "*   $E$ es una matriz de 1s de las mismas dimensiones que la Jacobiana\n",
        "*   Los siguientes parámetros: $maxIter = 2000$, $Tol=10e-14$, $\\sigma_1=\\sigma_2 = 0.1$, $r=0.1$, $\\rho = \\sqrt{0.9}$ y $\\theta_k=1$, $\\epsilon_k = \\dfrac{1}{(k+1)^2}$ para cada $k$ en las iteraciones.\n",
        "\n",
        "1. Esta es una variante de la función de Rosenbrock. $$F_1(\\mathbf{x})=\\begin{pmatrix}\n",
        "10(x_2 - x_1^2)\\\\\n",
        "1-x_1\n",
        "\\end{pmatrix}\n",
        "$$ cuyo óptimo es $x^*=(1,1)^t$."
      ],
      "metadata": {
        "id": "o2Y-9RMqIRFZ"
      }
    },
    {
      "cell_type": "code",
      "source": [
        "x_ = np.array([1.0, -5.0])\n",
        "beta = [1.0,5.0,10.0]\n",
        "B = [JF1(np.zeros(2)) + np.ones([2,2]), JF1(np.zeros(2))+ 10*np.ones([2,2]), np.identity(2), 10*np.identity(2)]\n",
        "Bn = [\"Jx*+E\", \"Jx*+10E\", \"I\", \"10I\"]\n",
        "print_results(beta, 10e-14, 2000, B, Bn, F1, \"F1\", x_)"
      ],
      "metadata": {
        "colab": {
          "base_uri": "https://localhost:8080/"
        },
        "id": "5z-_BXiUniac",
        "outputId": "a889c3cc-d97c-4ebd-805e-a886d53053b8"
      },
      "execution_count": null,
      "outputs": [
        {
          "output_type": "stream",
          "name": "stdout",
          "text": [
            "+-------------------------------------------------------------------------------------------------------------------------------+\n",
            "|                                            Resultados del método de Broyden con F1                                            |\n",
            "+------+---------+-----------+------------------------+-----------+------------------------+-----------+------------------------+\n",
            "| beta |   B_0   | M1 - Iter |      M1 - ||fk||       | M2 - Iter |      M2 - ||fk||       | M3 - Iter |      M3 - ||fk||       |\n",
            "+------+---------+-----------+------------------------+-----------+------------------------+-----------+------------------------+\n",
            "| 1.0  |  Jx*+E  |     13    | 1.7763568394002505e-14 |     16    | 2.2232198742534223e-15 |     12    |          0.0           |\n",
            "| 5.0  |  Jx*+E  |     11    | 2.7755575615628914e-14 |     19    | 9.994474079390603e-15  |     17    | 1.1102230246251565e-14 |\n",
            "| 10.0 |  Jx*+E  |     11    | 2.6645352591003757e-14 |     21    | 3.3472809927562375e-15 |     14    | 2.220446049250313e-15  |\n",
            "|      |         |           |                        |           |                        |           |                        |\n",
            "| 1.0  | Jx*+10E |     29    | 4.885183162911976e-14  |    190    |  5.17892563931115e-15  |     74    |          0.0           |\n",
            "| 5.0  | Jx*+10E |     93    |          0.0           |    129    | 5.365950338995594e-15  |    122    | 2.2315206618374916e-15 |\n",
            "| 10.0 | Jx*+10E |     49    | 2.220446049250313e-15  |    145    | 1.3068603061549809e-14 |    133    | 2.589462819655575e-15  |\n",
            "|      |         |           |                        |           |                        |           |                        |\n",
            "| 1.0  |    I    |     13    | 6.661338147750939e-15  |     18    | 2.220446049250313e-15  |     13    | 2.220446049250313e-15  |\n",
            "| 5.0  |    I    |     12    | 8.881784197001252e-15  |     38    |          0.0           |     13    | 2.2232198742534223e-15 |\n",
            "| 10.0 |    I    |     11    | 5.3290705182007514e-14 |     70    |          0.0           |     14    | 2.220446049250313e-15  |\n",
            "|      |         |           |                        |           |                        |           |                        |\n",
            "| 1.0  |   10I   |     40    | 1.0014187065170149e-14 |    114    | 4.577566798522238e-15  |    109    | 1.1322097734007351e-15 |\n",
            "| 5.0  |   10I   |     92    | 2.5537301649480105e-14 |     85    | 6.439293542825908e-15  |     79    |          0.0           |\n",
            "| 10.0 |   10I   |     30    |          0.0           |     97    | 4.440892098500626e-16  |     83    | 6.799832799771533e-14  |\n",
            "|      |         |           |                        |           |                        |           |                        |\n",
            "+------+---------+-----------+------------------------+-----------+------------------------+-----------+------------------------+\n"
          ]
        }
      ]
    },
    {
      "cell_type": "markdown",
      "source": [
        "2. Función singular de Powell$$F_2(\\mathbf{x})=\\begin{pmatrix}\n",
        "x_1 +10x_2\\\\\n",
        "5^{\\frac{1}{2}}(x_3-x_4) \\\\\n",
        "(x_2 - 2x_3)^2 \\\\\n",
        "10^{\\frac{1}{2}}(x_1-x_4)^2\n",
        "\\end{pmatrix}$$\n",
        "cuyo óptimo es en $x*=(0,0,0,0)^t$."
      ],
      "metadata": {
        "id": "7f8ATcgYJW-A"
      }
    },
    {
      "cell_type": "code",
      "source": [
        "x_ = np.array([3.0, -1.0, 0, 1.0])\n",
        "beta = [1.0, -1.0, 0.01, -0.01]\n",
        "B = [np.identity(4), 10*np.identity(4), np.identity(4)+np.ones([4,4])]\n",
        "Bn = [\"I\", \"10I\", \"I+E\"]\n",
        "print_results(beta, 10e-14, 2000, B, Bn, F2, \"F2\", x_)"
      ],
      "metadata": {
        "colab": {
          "base_uri": "https://localhost:8080/"
        },
        "id": "bbo4ccz7sXC4",
        "outputId": "3f8157dd-a3f3-4898-8afd-8baddfe577dc"
      },
      "execution_count": null,
      "outputs": [
        {
          "output_type": "stream",
          "name": "stdout",
          "text": [
            "+----------------------------------------------------------------------------------------------------------------------------+\n",
            "|                                          Resultados del método de Broyden con F2                                           |\n",
            "+-------+-----+-----------+------------------------+-----------+------------------------+-----------+------------------------+\n",
            "|  beta | B_0 | M1 - Iter |      M1 - ||fk||       | M2 - Iter |      M2 - ||fk||       | M3 - Iter |      M3 - ||fk||       |\n",
            "+-------+-----+-----------+------------------------+-----------+------------------------+-----------+------------------------+\n",
            "|  1.0  |  I  |    2000   |  0.01873033205367971   |    2000   |  0.00483344199091699   |    2000   |  0.005636425989594949  |\n",
            "|  -1.0 |  I  |    387    | 1.2056892443013643e-14 |    2000   | 1.9198628509254815e-05 |    2000   |  2.36593298238335e-06  |\n",
            "|  0.01 |  I  |    2000   | 1.4897354630228884e-09 |    2000   | 2.1048761390194785e-08 |    2000   | 2.917123884551828e-08  |\n",
            "| -0.01 |  I  |    2000   | 1.9706106387322126e-09 |    2000   | 8.487056706147414e-09  |    756    | 9.818064365797647e-14  |\n",
            "|       |     |           |                        |           |                        |           |                        |\n",
            "|  1.0  | 10I |    586    | 9.172572931992555e-14  |    2000   |  0.003843460687630314  |    2000   |  0.007328050968661715  |\n",
            "|  -1.0 | 10I |    2000   |  0.25271881235973104   |    2000   |  0.005320873337952533  |    2000   | 8.671416733739163e-05  |\n",
            "|  0.01 | 10I |    261    | 6.077576511907582e-14  |    2000   | 6.665792933819499e-10  |    2000   | 5.094979137125897e-13  |\n",
            "| -0.01 | 10I |    455    | 9.297745131314817e-14  |    2000   | 8.449112086322965e-09  |    2000   | 1.1821355468749497e-08 |\n",
            "|       |     |           |                        |           |                        |           |                        |\n",
            "|  1.0  | I+E |    2000   |  0.007293134762876877  |    2000   |  0.002982347777698302  |    2000   | 0.0032032195620337735  |\n",
            "|  -1.0 | I+E |    2000   |   2.861273205314691    |    2000   | 0.0005091206865100782  |    2000   | 0.0001764644014539277  |\n",
            "|  0.01 | I+E |     69    | 4.0401959440663575e-15 |    1645   |  6.37186507629229e-14  |    2000   |  8.41254665781714e-11  |\n",
            "| -0.01 | I+E |    2000   |  4.11186422832383e-09  |    2000   | 2.6885901842874406e-12 |    219    | 7.924696259240823e-14  |\n",
            "|       |     |           |                        |           |                        |           |                        |\n",
            "+-------+-----+-----------+------------------------+-----------+------------------------+-----------+------------------------+\n"
          ]
        }
      ]
    },
    {
      "cell_type": "markdown",
      "source": [
        "Para estas siguientes pruebas, se están considerando los mismos parámetros que en los casos anteriores, salvo lo siguiente:\n",
        "*   $maxIter=10000$\n",
        "*   $Tol = 10e-10$\n",
        "*   La inicialización para $x_0$ sigue siendo de la forma $\\beta \\hat{x}$, pero ahora, $\\hat{x}$ se inicia como sigue: $$\\hat{x}=\\left(1, \\frac{1}{2},...,\\frac{1}{n}\\right)^t$$donde $n$ es la dimensión a probar.\n",
        "\n",
        "3. La versión discretizada de la ecuación-H de Chandrasekhar: $$F_{3_i}(\\mathbf{x}) = x_i -\\left( 1-\\dfrac{c}{2n}\\displaystyle\\sum_{j=1}^n \\dfrac{\\mu_ix_j}{\\mu_i + \\mu_j} \\right)^{-1}$$ para $i=1,...,n$ y $\\mu_i = \\dfrac{i-0.5}{n}$. $c\\in [0,1]$, para las pruebas se usa $c=1$."
      ],
      "metadata": {
        "id": "Ubmig0JOPHe8"
      }
    },
    {
      "cell_type": "code",
      "source": [
        "n = [10, 50, 100]\n",
        "beta = [1, 10, -10, -1]\n",
        "print_results1(beta, 10e-10, int(10e+3), F3, \"F3\", n)"
      ],
      "metadata": {
        "colab": {
          "base_uri": "https://localhost:8080/"
        },
        "id": "ExZDZWod1xhv",
        "outputId": "b1e41d3d-98fa-446a-8e8e-3b927db29a0b"
      },
      "execution_count": null,
      "outputs": [
        {
          "output_type": "stream",
          "name": "stdout",
          "text": [
            "+--------------------------------------------------------------------------------------------------------------------------------------+\n",
            "|                                               Resultados del método de Broyden con F3                                                |\n",
            "+------+-----+-----+-----------+------------------------+-----------+------------------------+-----------+------------------------+----+\n",
            "| beta | B_0 |  n  | M1 - Iter |      M1 - ||fk||       | M2 - Iter |      M2 - ||fk||       | M3 - Iter |      M3 - ||fk||       | Nd |\n",
            "+------+-----+-----+-----------+------------------------+-----------+------------------------+-----------+------------------------+----+\n",
            "|  1   |  I  |  10 |     24    | 4.4308880592903185e-10 |     24    | 4.430906736596689e-10  |     17    | 7.796975402733466e-10  | 16 |\n",
            "|  1   |  I  |  50 |     25    | 4.2041183812197206e-10 |     25    | 4.2041336350494786e-10 |     19    | 2.949366323078279e-10  | 16 |\n",
            "|  1   |  I  | 100 |     25    | 6.068454150627395e-10  |     25    |  6.06844734657537e-10  |     19    | 6.311312382415159e-10  | 15 |\n",
            "|      |     |     |           |                        |           |                        |           |                        |    |\n",
            "|  10  |  I  |  10 |     47    | 4.4714706066156606e-10 |   10000   |   12.218628395929501   |   10000   |   8.165844507288917    | 1  |\n",
            "|  10  |  I  |  50 |     24    | 7.848596598380354e-10  |     24    | 7.848612159731559e-10  |     18    | 6.876785568338469e-10  | 16 |\n",
            "|  10  |  I  | 100 |     25    | 5.908953663173478e-10  |     25    | 5.908971797694338e-10  |     19    | 9.038402095579454e-10  | 14 |\n",
            "|      |     |     |           |                        |           |                        |           |                        |    |\n",
            "| -10  |  I  |  10 |     24    | 9.877823433159675e-10  |     24    | 9.877828162887671e-10  |     18    | 6.643115285781964e-10  | 16 |\n",
            "| -10  |  I  |  50 |     25    | 6.990157078614653e-10  |     25    | 6.990143948685322e-10  |     19    | 7.190999783938981e-10  | 15 |\n",
            "| -10  |  I  | 100 |     25    | 8.970349403419295e-10  |    189    | 5.735417796110577e-10  |    188    | 2.956994153788436e-10  | 4  |\n",
            "|      |     |     |           |                        |           |                        |           |                        |    |\n",
            "|  -1  |  I  |  10 |     24    | 6.165499856331805e-10  |     24    | 6.165505410056787e-10  |     18    | 2.643478026888098e-10  | 17 |\n",
            "|  -1  |  I  |  50 |     25    | 4.738769569469049e-10  |     25    | 4.738781738208459e-10  |     19    | 3.3087529438538214e-10 | 16 |\n",
            "|  -1  |  I  | 100 |     25    | 6.518941941010711e-10  |     25    | 6.518930442542564e-10  |     19    | 6.781858073004106e-10  | 15 |\n",
            "|      |     |     |           |                        |           |                        |           |                        |    |\n",
            "+------+-----+-----+-----------+------------------------+-----------+------------------------+-----------+------------------------+----+\n"
          ]
        }
      ]
    },
    {
      "cell_type": "markdown",
      "source": [
        "4. Problema de valores de frontera discretizado: $$F_4(\\mathbf{x})=\\begin{pmatrix}\n",
        "2 & -1 & 0 & \\cdots & 0\\\\\n",
        "-1 & 2 & -1 & \\cdots & 0\\\\\n",
        "0 & -1 & 2 & \\cdots & 0\\\\\n",
        "\\vdots & \\vdots & \\vdots & \\cdots & \\vdots\\\\\n",
        "0 & 0 & 0 & \\cdots & 2\n",
        "\\end{pmatrix}\\mathbf{x} + \\dfrac{1}{(n+1)^2}(\\sin(x_1)-1,...,\\sin(x_n)-1)^t$$"
      ],
      "metadata": {
        "id": "IWBnbu6nHiR2"
      }
    },
    {
      "cell_type": "code",
      "source": [
        "n = [10, 50, 100]\n",
        "beta = [0.1, 1.0, 10, -10]\n",
        "print_results1(beta, 10e-10, int(10e+3), F4, \"F4\", n)"
      ],
      "metadata": {
        "colab": {
          "base_uri": "https://localhost:8080/"
        },
        "id": "9xpuympJ6n5C",
        "outputId": "c813e96f-0c64-4f79-a62f-23aed1411e8d"
      },
      "execution_count": null,
      "outputs": [
        {
          "output_type": "stream",
          "name": "stdout",
          "text": [
            "+--------------------------------------------------------------------------------------------------------------------------------------+\n",
            "|                                               Resultados del método de Broyden con F4                                                |\n",
            "+------+-----+-----+-----------+------------------------+-----------+------------------------+-----------+------------------------+----+\n",
            "| beta | B_0 |  n  | M1 - Iter |      M1 - ||fk||       | M2 - Iter |      M2 - ||fk||       | M3 - Iter |      M3 - ||fk||       | Nd |\n",
            "+------+-----+-----+-----------+------------------------+-----------+------------------------+-----------+------------------------+----+\n",
            "| 0.1  |  I  |  10 |     20    | 5.961618672577028e-10  |     26    | 6.668711315840854e-10  |     22    | 9.800098929661543e-12  | 10 |\n",
            "| 0.1  |  I  |  50 |    108    | 8.539659535701317e-10  |    197    | 4.558787738805605e-10  |    215    | 8.863632276484985e-10  | 15 |\n",
            "| 0.1  |  I  | 100 |    262    | 2.941207239472961e-10  |    626    |  9.91520428498255e-10  |    516    | 5.951739631668991e-10  | 25 |\n",
            "|      |     |     |           |                        |           |                        |           |                        |    |\n",
            "| 1.0  |  I  |  10 |     22    | 4.2010203196977494e-10 |     22    | 8.157346667019359e-10  |     18    | 2.9721994923273386e-10 | 12 |\n",
            "| 1.0  |  I  |  50 |    119    | 4.240768831093466e-10  |    190    |  9.64262788060684e-10  |    175    | 4.4891896665855527e-10 | 22 |\n",
            "| 1.0  |  I  | 100 |    305    | 8.400927640662619e-10  |    602    | 9.112384845485886e-10  |    580    | 7.845962890672644e-10  | 25 |\n",
            "|      |     |     |           |                        |           |                        |           |                        |    |\n",
            "|  10  |  I  |  10 |     26    | 2.1629876388722902e-10 |     35    | 2.540855431610653e-10  |     26    | 1.471407872200643e-11  | 12 |\n",
            "|  10  |  I  |  50 |    108    | 8.948293003017794e-10  |    227    | 6.355430797645499e-10  |    206    | 9.073189183523411e-10  | 6  |\n",
            "|  10  |  I  | 100 |    380    | 1.1909473071522735e-10 |    952    | 9.447289396932024e-10  |    1201   | 9.277917471622945e-10  | 10 |\n",
            "|      |     |     |           |                        |           |                        |           |                        |    |\n",
            "| -10  |  I  |  10 |     25    | 7.887430426453133e-10  |     35    | 3.3007916531023767e-10 |     26    | 1.3792316501807974e-11 | 11 |\n",
            "| -10  |  I  |  50 |    150    | 7.168336212760653e-10  |    400    | 3.439826169565253e-10  |    402    | 4.1696049327119015e-10 | 7  |\n",
            "| -10  |  I  | 100 |    334    | 8.528896804728863e-10  |    969    | 8.068890533855778e-10  |    891    | 6.528172492602144e-10  | 9  |\n",
            "|      |     |     |           |                        |           |                        |           |                        |    |\n",
            "+------+-----+-----+-----------+------------------------+-----------+------------------------+-----------+------------------------+----+\n"
          ]
        }
      ]
    },
    {
      "cell_type": "markdown",
      "source": [
        "5. La función dada por:\n",
        "$$F_{5_i}(\\mathbf{x}) = \\begin{cases}\n",
        "2x_1 + \\sin(x_1)-1 & \\text{ si }i=1, \\\\\n",
        "-2x_{i-1} + 2x_i + \\sin(x_i) -1 & \\text{ si }i=2,...,n-1 \\\\\n",
        "2x_n +\\sin(x_n) -1 & \\text{ si }i=n\n",
        "\\end{cases}$$"
      ],
      "metadata": {
        "id": "5VV1uUfPKPnY"
      }
    },
    {
      "cell_type": "code",
      "source": [
        "n = [10, 50, 100, 500]\n",
        "beta = [1.0, 10, -10, -0.1]\n",
        "print_results1(beta, 10e-10, int(10e+3), F5, \"F5\", n)"
      ],
      "metadata": {
        "colab": {
          "base_uri": "https://localhost:8080/"
        },
        "id": "O5FWBIWc7MD4",
        "outputId": "ee5d0df2-710c-4877-fe1f-18427d6b61d6"
      },
      "execution_count": null,
      "outputs": [
        {
          "output_type": "stream",
          "name": "stdout",
          "text": [
            "+--------------------------------------------------------------------------------------------------------------------------------------+\n",
            "|                                               Resultados del método de Broyden con F5                                                |\n",
            "+------+-----+-----+-----------+------------------------+-----------+------------------------+-----------+------------------------+----+\n",
            "| beta | B_0 |  n  | M1 - Iter |      M1 - ||fk||       | M2 - Iter |      M2 - ||fk||       | M3 - Iter |      M3 - ||fk||       | Nd |\n",
            "+------+-----+-----+-----------+------------------------+-----------+------------------------+-----------+------------------------+----+\n",
            "| 1.0  |  I  |  10 |     26    | 2.0485210626375759e-10 |     25    | 1.6747457860684494e-10 |     20    | 5.693920006035944e-11  | 9  |\n",
            "| 1.0  |  I  |  50 |    119    | 4.4922390903368577e-10 |     78    | 6.430680723000029e-10  |     66    | 1.2843312269021646e-10 | 16 |\n",
            "| 1.0  |  I  | 100 |    1479   | 4.958859503664875e-10  |    134    |  5.24870734910155e-10  |    120    | 6.171068434226476e-10  | 16 |\n",
            "| 1.0  |  I  | 500 |   10000   |   10.661920834124276   |    726    | 8.800068005265774e-10  |    709    | 9.666772659600483e-10  | 25 |\n",
            "|      |     |     |           |                        |           |                        |           |                        |    |\n",
            "|  10  |  I  |  10 |     30    | 2.7818724365214378e-11 |     50    | 2.3502860091143194e-10 |     72    | 4.602763046488755e-10  | 14 |\n",
            "|  10  |  I  |  50 |    136    | 4.669027168774509e-10  |   10000   |   11.399160735924427   |   10000   |   11.399160735924427   | 0  |\n",
            "|  10  |  I  | 100 |    1793   | 4.322090422617367e-10  |   10000   |   11.974566414241565   |   10000   |   11.974566414241565   | 0  |\n",
            "|  10  |  I  | 500 |   10000   |   82.15034044031138    |    781    | 9.566341126118804e-10  |    763    | 9.310550929625363e-10  | 27 |\n",
            "|      |     |     |           |                        |           |                        |           |                        |    |\n",
            "| -10  |  I  |  10 |     28    | 7.652747641518761e-10  |     31    | 8.281299976821435e-10  |     25    | 6.771893097472048e-11  | 12 |\n",
            "| -10  |  I  |  50 |    190    | 3.5248938988028464e-10 |     89    | 8.675920021695825e-10  |     76    | 2.592261272854504e-10  | 18 |\n",
            "| -10  |  I  | 100 |    1802   | 7.573542932141504e-10  |    146    | 3.598161769731243e-10  |    129    | 3.1159037117954637e-10 | 17 |\n",
            "| -10  |  I  | 500 |   10000   |   18.839837277223005   |    731    | 8.705066649874917e-10  |    720    | 3.6311835722395515e-10 | 24 |\n",
            "|      |     |     |           |                        |           |                        |           |                        |    |\n",
            "| -0.1 |  I  |  10 |     26    | 8.057450186487758e-10  |     24    | 6.568575319351241e-10  |     21    | 3.331028546024572e-11  | 9  |\n",
            "| -0.1 |  I  |  50 |     84    | 2.587143915896882e-10  |     80    | 2.714745135731839e-10  |     69    | 1.0483643886650882e-10 | 14 |\n",
            "| -0.1 |  I  | 100 |    1696   | 8.334879882192461e-10  |    134    | 6.749718256935855e-10  |    123    | 2.0388822936364965e-10 | 16 |\n",
            "| -0.1 |  I  | 500 |   10000   |   10.158103066983367   |    728    | 9.862896906981412e-10  |    710    | 8.771684274909817e-10  | 24 |\n",
            "|      |     |     |           |                        |           |                        |           |                        |    |\n",
            "+------+-----+-----+-----------+------------------------+-----------+------------------------+-----------+------------------------+----+\n"
          ]
        }
      ]
    },
    {
      "cell_type": "markdown",
      "source": [
        "6. La función dada por:\n",
        "$$F_{6_i}(\\mathbf{x}) = \\begin{cases}\n",
        "e^{x_1} -1 & \\text{ si }i=1, \\\\\n",
        "\\dfrac{i}{10}(e^{x_i} + x_{i-1} -1) & \\text{ si }i=2,...,n\n",
        "\\end{cases}$$"
      ],
      "metadata": {
        "id": "emXCryvAL1Ha"
      }
    },
    {
      "cell_type": "code",
      "source": [
        "n = [10, 50, 100, 200, 500]\n",
        "beta = [-0.01, 0.01, -0.1, 0.1]\n",
        "print_results1(beta, 10e-10, int(10e+3), F6, \"F6\", n)"
      ],
      "metadata": {
        "id": "1dmdUNqN7bDB",
        "colab": {
          "base_uri": "https://localhost:8080/"
        },
        "outputId": "5b7ef2bd-08c5-4278-f2fe-eb2e66c34d96"
      },
      "execution_count": null,
      "outputs": [
        {
          "output_type": "stream",
          "name": "stderr",
          "text": [
            "<ipython-input-49-e49ba56da7ca>:51: RuntimeWarning: overflow encountered in exp\n",
            "  f[i-1] = i*(np.exp(x[i-1]) + x[i-2] -1)/10\n",
            "/usr/local/lib/python3.10/dist-packages/numpy/linalg/linalg.py:2180: RuntimeWarning: invalid value encountered in det\n",
            "  r = _umath_linalg.det(a, signature=signature)\n",
            "<ipython-input-49-e49ba56da7ca>:51: RuntimeWarning: overflow encountered in scalar multiply\n",
            "  f[i-1] = i*(np.exp(x[i-1]) + x[i-2] -1)/10\n",
            "/usr/local/lib/python3.10/dist-packages/numpy/linalg/linalg.py:2180: RuntimeWarning: overflow encountered in det\n",
            "  r = _umath_linalg.det(a, signature=signature)\n"
          ]
        },
        {
          "output_type": "stream",
          "name": "stdout",
          "text": [
            "+---------------------------------------------------------------------------------------------------------------------------------------+\n",
            "|                                                Resultados del método de Broyden con F6                                                |\n",
            "+-------+-----+-----+-----------+------------------------+-----------+------------------------+-----------+------------------------+----+\n",
            "|  beta | B_0 |  n  | M1 - Iter |      M1 - ||fk||       | M2 - Iter |      M2 - ||fk||       | M3 - Iter |      M3 - ||fk||       | Nd |\n",
            "+-------+-----+-----+-----------+------------------------+-----------+------------------------+-----------+------------------------+----+\n",
            "| -0.01 |  I  |  10 |     21    | 3.706667308638638e-10  |     26    | 1.6953350949095357e-10 |     16    |  6.33167150082655e-10  | 10 |\n",
            "| -0.01 |  I  |  50 |     90    | 7.879577260494137e-10  |     87    | 5.339034145285423e-10  |     78    | 9.036178868651236e-10  | 12 |\n",
            "| -0.01 |  I  | 100 |   10000   |          nan           |    137    | 3.7844434499707634e-10 |    129    | 2.2169164831730804e-10 | 13 |\n",
            "| -0.01 |  I  | 200 |   10000   |          nan           |    270    |   9.138810190795e-10   |    255    | 6.763592825965722e-10  | 16 |\n",
            "| -0.01 |  I  | 500 |   10000   |          nan           |    658    |  7.04120774396066e-10  |    585    | 4.3314911488361903e-10 | 17 |\n",
            "|       |     |     |           |                        |           |                        |           |                        |    |\n",
            "|  0.01 |  I  |  10 |     21    | 1.017263024748638e-10  |     26    | 1.2552285137179168e-10 |     17    | 4.552778761942623e-10  | 11 |\n",
            "|  0.01 |  I  |  50 |     92    | 9.766887720601797e-10  |     89    | 4.810109215041927e-10  |     81    | 7.928435432562452e-10  | 11 |\n",
            "|  0.01 |  I  | 100 |   10000   |          nan           |    135    |  6.18348112026182e-10  |    127    | 5.328336706867956e-10  | 13 |\n",
            "|  0.01 |  I  | 200 |   10000   |          nan           |    272    | 9.474565047111218e-10  |    255    | 3.854917753910409e-10  | 15 |\n",
            "|  0.01 |  I  | 500 |   10000   |          nan           |    614    | 7.424787191089829e-10  |    619    | 9.285322091327177e-10  | 13 |\n",
            "|       |     |     |           |                        |           |                        |           |                        |    |\n",
            "|  -0.1 |  I  |  10 |     25    | 6.448233252091544e-10  |     27    | 2.9248136991126343e-10 |     19    | 8.342449610900935e-10  | 13 |\n",
            "|  -0.1 |  I  |  50 |     94    | 3.1406864100534216e-10 |     95    | 2.0418408704419044e-10 |     86    | 8.767800230756059e-10  | 14 |\n",
            "|  -0.1 |  I  | 100 |   10000   |          nan           |    142    | 8.737276808680172e-10  |    132    | 4.2074867303306445e-10 | 13 |\n",
            "|  -0.1 |  I  | 200 |   10000   |          nan           |    280    |  9.6454983554823e-10   |    272    | 5.343720970815162e-10  | 19 |\n",
            "|  -0.1 |  I  | 500 |   10000   |          nan           |    620    | 7.214805563363253e-10  |    621    | 9.680749501037976e-10  | 23 |\n",
            "|       |     |     |           |                        |           |                        |           |                        |    |\n",
            "|  0.1  |  I  |  10 |     26    | 2.944588226610799e-11  |     29    | 6.630820652590729e-10  |     20    | 1.8032760569211496e-10 | 14 |\n",
            "|  0.1  |  I  |  50 |    104    | 4.847561274548626e-10  |     92    | 6.526692898370655e-10  |     87    | 7.988740790119787e-10  | 15 |\n",
            "|  0.1  |  I  | 100 |   10000   |          nan           |    144    |  6.17658286291748e-10  |    132    | 5.741693126180881e-10  | 12 |\n",
            "|  0.1  |  I  | 200 |   10000   |          nan           |    308    |  9.37457153789093e-10  |    292    | 5.484369887821687e-10  | 21 |\n",
            "|  0.1  |  I  | 500 |   10000   |          nan           |    627    |  6.76389248851536e-10  |    631    | 6.441285451523143e-10  | 21 |\n",
            "|       |     |     |           |                        |           |                        |           |                        |    |\n",
            "+-------+-----+-----+-----------+------------------------+-----------+------------------------+-----------+------------------------+----+\n"
          ]
        }
      ]
    },
    {
      "cell_type": "markdown",
      "source": [
        "Para esta siguiente prueba, solo cambiamos la forma de $\\hat{x}$ para que sea únicamente un vector de 1s.\n",
        "6. La función dada por:\n",
        "$$F_{6_i}(\\mathbf{x}) = \\begin{cases}\n",
        "x_1(x_1^2 +x_2^2) -1 & \\text{ si }i=1, \\\\\n",
        "x_i(x_{i-1}^2 +2x_i^2 +x_{i+1}^2) -1 & \\text{ si }i=2,...,n-1 \\\\\n",
        "x_n(x_{n-1}^2 +x_n^2) & \\text{ si }i=n\n",
        "\\end{cases}$$"
      ],
      "metadata": {
        "id": "-QI_6u0RUm13"
      }
    },
    {
      "cell_type": "code",
      "source": [
        "n = [10, 50, 100]\n",
        "beta = [-15, -10, -5, 5, 10]\n",
        "print_results1(beta, 10e-10, int(10e+3), F7, \"F7\", n, 2)"
      ],
      "metadata": {
        "id": "Q-pU13nc72pd",
        "colab": {
          "base_uri": "https://localhost:8080/"
        },
        "outputId": "800b026e-b0bf-4ff5-9064-f8504bdf60a9"
      },
      "execution_count": null,
      "outputs": [
        {
          "output_type": "stream",
          "name": "stdout",
          "text": [
            "Terminamos por singularidad de matriz\n"
          ]
        },
        {
          "output_type": "stream",
          "name": "stderr",
          "text": [
            "<ipython-input-49-e49ba56da7ca>:58: RuntimeWarning: overflow encountered in scalar multiply\n",
            "  f[-1] = x[-1]*(x[-2]**2 + x[-1]**2)\n",
            "<ipython-input-49-e49ba56da7ca>:60: RuntimeWarning: overflow encountered in scalar multiply\n",
            "  f[i] = x[i]*(x[i-1]**2 +2*(x[i]**2) +x[i+1]**2)-1\n"
          ]
        },
        {
          "output_type": "stream",
          "name": "stdout",
          "text": [
            "Terminamos por singularidad de matriz\n"
          ]
        },
        {
          "output_type": "stream",
          "name": "stderr",
          "text": [
            "<ipython-input-49-e49ba56da7ca>:57: RuntimeWarning: overflow encountered in scalar multiply\n",
            "  f[0] = x[0]*(x[0]**2 + x[1]**2) - 1\n"
          ]
        },
        {
          "output_type": "stream",
          "name": "stdout",
          "text": [
            "Terminamos por singularidad de matriz\n",
            "Terminamos por singularidad de matriz\n",
            "Terminamos por singularidad de matriz\n",
            "+----------------------------------------------------------------------------------------------------------------------------------------+\n",
            "|                                                Resultados del método de Broyden con F7                                                 |\n",
            "+------+-----+-----+-----------+-------------------------+-----------+------------------------+-----------+------------------------+-----+\n",
            "| beta | B_0 |  n  | M1 - Iter |       M1 - ||fk||       | M2 - Iter |      M2 - ||fk||       | M3 - Iter |      M3 - ||fk||       |  Nd |\n",
            "+------+-----+-----+-----------+-------------------------+-----------+------------------------+-----------+------------------------+-----+\n",
            "| -15  |  I  |  10 |     21    |  2.2273490830966243e+71 |    643    |  9.95264057424165e-10  |    483    | 1.5106520787807572e-10 |  28 |\n",
            "| -15  |  I  |  50 |   10000   |           nan           |    257    | 5.878314565495527e-10  |    183    | 3.9963745819338774e-10 |  39 |\n",
            "| -15  |  I  | 100 |   10000   |           nan           |    237    | 7.725233993559086e-10  |    252    | 8.424160960828394e-10  |  45 |\n",
            "|      |     |     |           |                         |           |                        |           |                        |     |\n",
            "| -10  |  I  |  10 |     40    |  4.167211626442973e+111 |    260    | 9.966594635889917e-10  |    365    | 5.616339205724891e-10  |  59 |\n",
            "| -10  |  I  |  50 |   10000   |           nan           |    609    | 8.895922139272895e-10  |    584    | 9.484445470947974e-10  |  99 |\n",
            "| -10  |  I  | 100 |   10000   |           nan           |    685    |  9.91053266479677e-10  |    646    |  9.59794159609209e-10  |  81 |\n",
            "|      |     |     |           |                         |           |                        |           |                        |     |\n",
            "|  -5  |  I  |  10 |    106    |           inf           |     57    | 3.838418598777488e-10  |     48    | 1.217402518010518e-10  |  12 |\n",
            "|  -5  |  I  |  50 |   10000   |           nan           |     72    | 9.280332600744661e-10  |     69    | 8.157042822716636e-10  |  26 |\n",
            "|  -5  |  I  | 100 |   10000   |           nan           |     95    | 8.530063892614257e-10  |     79    | 4.6161708465617777e-10 |  31 |\n",
            "|      |     |     |           |                         |           |                        |           |                        |     |\n",
            "|  5   |  I  |  10 |     47    | 5.2947390099076075e+101 |     63    | 2.6612557064673727e-10 |     50    | 1.0232659175351445e-10 |  17 |\n",
            "|  5   |  I  |  50 |   10000   |           nan           |     87    |  9.84474930042219e-10  |     66    | 1.0111670928051369e-10 |  23 |\n",
            "|  5   |  I  | 100 |   10000   |           nan           |     89    |  4.80836317088093e-10  |     74    | 7.757813039565586e-10  |  16 |\n",
            "|      |     |     |           |                         |           |                        |           |                        |     |\n",
            "|  10  |  I  |  10 |     21    |   9.39467525483498e+53  |    231    | 6.833662382298402e-10  |    358    | 8.741974977978343e-11  |  66 |\n",
            "|  10  |  I  |  50 |   10000   |           nan           |    620    | 8.405270443625958e-10  |    504    | 9.391828909757302e-10  |  92 |\n",
            "|  10  |  I  | 100 |   10000   |           nan           |    696    | 9.589717129367642e-10  |    661    | 9.888235521669915e-10  | 103 |\n",
            "|      |     |     |           |                         |           |                        |           |                        |     |\n",
            "+------+-----+-----+-----------+-------------------------+-----------+------------------------+-----------+------------------------+-----+\n"
          ]
        }
      ]
    },
    {
      "cell_type": "code",
      "source": [
        "n = [12, 21, 37, 72, 81, 144, 256]\n",
        "beta = [15]\n",
        "print_results1(beta, 10e-10, int(10e+3), F7, \"F7\", n, 2)"
      ],
      "metadata": {
        "id": "Lhe74uuM8O1n",
        "colab": {
          "base_uri": "https://localhost:8080/"
        },
        "outputId": "b1f7a32f-0fab-4f22-adb9-b2797cd6ff09"
      },
      "execution_count": null,
      "outputs": [
        {
          "output_type": "stream",
          "name": "stdout",
          "text": [
            "Terminamos por singularidad de matriz\n",
            "Terminamos por singularidad de matriz\n"
          ]
        },
        {
          "output_type": "stream",
          "name": "stderr",
          "text": [
            "<ipython-input-49-e49ba56da7ca>:57: RuntimeWarning: overflow encountered in scalar multiply\n",
            "  f[0] = x[0]*(x[0]**2 + x[1]**2) - 1\n",
            "<ipython-input-49-e49ba56da7ca>:58: RuntimeWarning: overflow encountered in scalar multiply\n",
            "  f[-1] = x[-1]*(x[-2]**2 + x[-1]**2)\n",
            "<ipython-input-49-e49ba56da7ca>:60: RuntimeWarning: overflow encountered in scalar multiply\n",
            "  f[i] = x[i]*(x[i-1]**2 +2*(x[i]**2) +x[i+1]**2)-1\n"
          ]
        },
        {
          "output_type": "stream",
          "name": "stdout",
          "text": [
            "+-------------------------------------------------------------------------------------------------------------------------------------+\n",
            "|                                               Resultados del método de Broyden con F7                                               |\n",
            "+------+-----+-----+-----------+------------------------+-----------+------------------------+-----------+-----------------------+----+\n",
            "| beta | B_0 |  n  | M1 - Iter |      M1 - ||fk||       | M2 - Iter |      M2 - ||fk||       | M3 - Iter |      M3 - ||fk||      | Nd |\n",
            "+------+-----+-----+-----------+------------------------+-----------+------------------------+-----------+-----------------------+----+\n",
            "|  15  |  I  |  12 |     24    | 2.4384277658984924e+77 |    420    | 2.535661436897076e-11  |    304    | 8.779404798992073e-10 | 36 |\n",
            "|  15  |  I  |  21 |     12    | 4.248844123103982e+45  |    355    | 9.758712280254915e-10  |    254    | 6.836308867741627e-10 | 35 |\n",
            "|  15  |  I  |  37 |   10000   |          nan           |    301    | 4.3049532975411745e-10 |    137    | 9.123606683850815e-10 | 37 |\n",
            "|  15  |  I  |  72 |   10000   |          nan           |    226    | 8.210325069338757e-10  |    167    |  6.17541733391253e-10 | 49 |\n",
            "|  15  |  I  |  81 |   10000   |          nan           |    279    | 9.693484953921247e-10  |    200    | 6.487647651989633e-10 | 28 |\n",
            "|  15  |  I  | 144 |   10000   |          nan           |    268    | 8.642824026782464e-10  |    243    | 8.495601899092952e-10 | 38 |\n",
            "|  15  |  I  | 256 |   10000   |          nan           |    337    | 9.297630307280889e-10  |    301    | 8.712662641836499e-10 | 46 |\n",
            "|      |     |     |           |                        |           |                        |           |                       |    |\n",
            "+------+-----+-----+-----------+------------------------+-----------+------------------------+-----------+-----------------------+----+\n"
          ]
        }
      ]
    },
    {
      "cell_type": "markdown",
      "source": [
        "# Conclusiones\n",
        "Los resultados mostraron mejoras significativas en la estabilidad y rendimiento del método modificado, especialmente en funciones propensas a desbordamientos numéricos. Este avance ofrece una alternativa para problemas complejos donde los métodos tradicionales podrían fallar. La búsqueda en línea libre de derivadas contribuyó a la convergencia global y superlineal, validando la efectividad de las modificaciones propuestas."
      ],
      "metadata": {
        "id": "VQMcHLr1bekm"
      }
    },
    {
      "cell_type": "markdown",
      "source": [
        "## Referencias:\n",
        "1. Li, D. H., & Fukushima, M. (2000). A derivative-free line search and global convergence of Broyden-like method for nonlinear equations. Optimization Methods and Software, 13(3), 181–201. https://doi.org/10.1080/10556780008805782\n",
        "2. Weijun Zhou, Li Zhang, A modified Broyden-like quasi-Newton method for nonlinear equations, Journal of Computational and Applied Mathematics, Volume 372, 2020, 112744, ISSN 0377-0427, https://doi.org/10.1016/j.cam.2020.112744."
      ],
      "metadata": {
        "id": "SazdaLZOBCoK"
      }
    },
    {
      "cell_type": "markdown",
      "source": [
        "<img src=\"https://imgb.ifunny.co/images/7c921a5d3d0f7d585591e0b157578f1ddcf99b2fa4cf2b88c8727ebf634fb76a_1.webp\" alt=\"Image Title\">\n"
      ],
      "metadata": {
        "id": "YPQdC6aOiKFu"
      }
    }
  ]
}