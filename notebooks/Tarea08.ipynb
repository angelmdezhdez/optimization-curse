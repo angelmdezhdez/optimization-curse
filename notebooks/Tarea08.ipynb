{
  "cells": [
    {
      "cell_type": "markdown",
      "id": "5abba223-5b0d-4d75-9962-0a67d3e0fb80",
      "metadata": {
        "id": "5abba223-5b0d-4d75-9962-0a67d3e0fb80"
      },
      "source": [
        "# Curso de Optimización I\n",
        "## Tarea 8\n",
        "\n",
        "| Descripción:                         | Fechas               |\n",
        "|--------------------------------------|----------------------|\n",
        "| Fecha de publicación del documento:  | **Abril 19, 2024**   |\n",
        "| Fecha límite de entrega de la tarea: | **Abril 30, 2024**   |\n",
        "\n",
        "\n",
        "### Indicaciones\n",
        "\n",
        "- Envie el notebook con los códigos y las pruebas realizadas de cada ejercicio.\n",
        "- Si se requiren algunos scripts adicionales para poder reproducir las pruebas,\n",
        "  agreguelos en un ZIP junto con el notebook.\n",
        "- Genere un PDF del notebook y envielo por separado."
      ]
    },
    {
      "cell_type": "markdown",
      "id": "9f6699e3-d755-48ca-bf04-5af82958f862",
      "metadata": {
        "id": "9f6699e3-d755-48ca-bf04-5af82958f862"
      },
      "source": [
        "---\n",
        "\n",
        "## Ejercicio 1 (10 puntos)\n",
        "\n",
        "Programar el método de BFGS modificado descrito en el Algoritmo 2 de la Clase 23.\n",
        "\n",
        "1. Programe la función que implementa el algoritmo. Debe recibir como parámetros\n",
        "- El punto inicial $\\mathbf{x}_0$\n",
        "- La matriz $\\mathbf{H}_0$\n",
        "- La función $f$\n",
        "- El gradiente $\\nabla f(\\mathbf{x})$\n",
        "- La tolerancia $\\tau$\n",
        "- El número máximo de iteraciones $N$\n",
        "- Los paramétros $\\rho, c_1, N_b$ del algoritmo de backtracking\n",
        "\n",
        "\n",
        "2. Pruebe el algoritmo para minimizar las siguientes funciones usando los parámetros\n",
        "   $N=5000$, $\\tau = \\sqrt{n}\\epsilon_m^{1/3}$, donde $n$ es la dimensión\n",
        "   de la variable $\\mathbf{x}$, $\\mathbf{H}_0$ como la matriz identidad\n",
        "   y $\\epsilon_m$ es el épsilon máquina.\n",
        "   Para backtracking use $\\rho=0.5$, $c_1=0.001$ y el número máximo de iteraciones $N_b=500$.\n",
        "   \n",
        "   En cada caso imprima los siguientes datos:\n",
        "   \n",
        "- la dimensión $n$,\n",
        "- $f(\\mathbf{x}_0)$,\n",
        "- el  número $k$ de iteraciones realizadas,\n",
        "- $f(\\mathbf{x}_k)$,\n",
        "- las primeras y últimas 4 entradas del punto $\\mathbf{x}_k$ que devuelve el algoritmo,\n",
        "- la norma del vector gradiente $\\mathbf{g}_k$,\n",
        "- la variable $res$ que indica si el algoritmo terminó porque se cumplió el\n",
        "  criterio de la tolerancia o terminó por iteraciones.\n",
        "  \n",
        "\n",
        "\n",
        "**Función de cuadrática 1:** Para $\\mathbf{x}=(x_1,x_2, ..., x_n)$\n",
        "\n",
        "- $f(\\mathbf{x}) = \\frac{1}{2} \\mathbf{x}^\\top\\mathbf{A}_1\\mathbf{x} - \\mathbf{b}_1^\\top\\mathbf{x}$,\n",
        "  donde $\\mathbf{A}_1$ y $\\mathbf{b}_1$ están definidas por\n",
        "  \n",
        "\n",
        "$$ \\mathbf{A}_1 = n\\mathbf{I} + \\mathbf{1} =\n",
        "\\left[\\begin{array}{llll} n      & 0      & \\cdots & 0 \\\\\n",
        "                       0      & n      & \\cdots & 0 \\\\\n",
        "                       \\vdots & \\vdots & \\ddots & \\vdots \\\\\n",
        "                       0      & 0      & \\cdots & n \\end{array}\\right]\n",
        "+ \\left[\\begin{array}{llll} 1    & 1      & \\cdots & 1 \\\\\n",
        "                       1      & 1      & \\cdots & 1 \\\\\n",
        "                       \\vdots & \\vdots & \\ddots & \\vdots \\\\\n",
        "                       1      & 1      & \\cdots & 1 \\end{array}\\right],  \\qquad\n",
        "\\mathbf{b}_1 = \\left[\\begin{array}{l} 1 \\\\ 1 \\\\ \\vdots \\\\ 1 \\end{array}\\right], $$\n",
        "\n",
        "donde $\\mathbf{I}$ es la matriz identidad y $\\mathbf{1}$ es la matriz llena de 1's,\n",
        "ambas de tamaño $n$, usando los puntos iniciales   \n",
        "- $\\mathbf{x}_0 = (0,...,0)\\in \\mathbb{R}^{10}$\n",
        "- $\\mathbf{x}_0 = (0,...,0)\\in \\mathbb{R}^{100}$\n",
        "- $\\mathbf{x}_0 = (0,...,0)\\in \\mathbb{R}^{1000}$\n",
        "\n",
        "---\n",
        "\n",
        "**Función de cuadrática 2:** Para $\\mathbf{x}=(x_1,x_2, ..., x_n)$\n",
        "\n",
        "- $f(\\mathbf{x}) = \\frac{1}{2} \\mathbf{x}^\\top\\mathbf{A}_2\\mathbf{x} - \\mathbf{b}_2^\\top\\mathbf{x}$,\n",
        "  donde $\\mathbf{A}_2= [a_{ij}]$ y $\\mathbf{b}_2$ están definidas por\n",
        "  \n",
        "$$ a_{ij} = exp\\left(-0.25(i-j)^2 \\right),  \\qquad\n",
        "\\mathbf{b}_2 = \\left[\\begin{array}{l} 1 \\\\ 1 \\\\ \\vdots \\\\ 1 \\end{array}\\right] $$\n",
        "\n",
        "usando los puntos iniciales:\n",
        "- $\\mathbf{x}_0 = (0,...,0)\\in \\mathbb{R}^{10}$\n",
        "- $\\mathbf{x}_0 = (0,...,0)\\in \\mathbb{R}^{100}$\n",
        "- $\\mathbf{x}_0 = (0,...,0)\\in \\mathbb{R}^{1000}$\n",
        "\n",
        "---\n",
        "\n",
        "**Función de Beale :** Para $\\mathbf{x}=(x_1,x_2)$\n",
        "\n",
        "$$f(\\mathbf{x}) = (1.5-x_1 + x_1x_2)^2 + (2.25 - x_1 + x_1x_2^2)^2 + (2.625 - x_1 + x_1x_2^3)^2.$$\n",
        "- $\\mathbf{x}_0 = (2,3)$  \n",
        "   \n",
        "---\n",
        "\n",
        "**Función de Himmelblau:** Para $\\mathbf{x}=(x_1,x_2)$\n",
        "\n",
        "$$f(\\mathbf{x}) = (x_1^2 + x_2 - 11)^2 + (x_1 + x_2^2 - 7)^2. $$\n",
        "- $\\mathbf{x}_0 = (2,4)$\n",
        "\n",
        "---\n",
        "\n",
        "**Función de Rosenbrock:** Para $\\mathbf{x}=(x_1,x_2, ..., x_n)$\n",
        "\n",
        "$$ f(\\mathbf{x}) = \\sum_{i=1}^{n-1} \\left[100(x_{i+1} - x_i^2)^2 + (1-x_i)^2 \\right]\n",
        "\\quad n\\geq 2.$$\n",
        "- $\\mathbf{x}_0 = (-1.2, 1.0)\\in \\mathbb{R}^{2}$  \n",
        "- $\\mathbf{x}_0 = (-1.2, 1.0, ..., -1.2, 1.0) \\in \\mathbb{R}^{20}$  \n",
        "- $\\mathbf{x}_0 = (-1.2, 1.0, ..., -1.2, 1.0) \\in \\mathbb{R}^{40}$\n",
        "\n",
        "### Solución:\n",
        "   "
      ]
    },
    {
      "cell_type": "code",
      "execution_count": 1,
      "id": "d323f627",
      "metadata": {
        "id": "d323f627"
      },
      "outputs": [],
      "source": [
        "# Importamos librerías\n",
        "import numpy as np"
      ]
    },
    {
      "cell_type": "code",
      "execution_count": 2,
      "id": "98bfa969",
      "metadata": {
        "id": "98bfa969"
      },
      "outputs": [],
      "source": [
        "def backtracking(a0, r, c1, xk, f, df, pk, maxIter):\n",
        "  a=a0\n",
        "  for i in range(maxIter):\n",
        "    # condicion de descenso suficiente\n",
        "    if f(xk+a*pk)<= f(xk) + c1*a*(np.dot(df(xk), pk)):\n",
        "        return a, i+1, True\n",
        "    a=r*a\n",
        "  return a, maxIter, False"
      ]
    },
    {
      "cell_type": "code",
      "execution_count": 3,
      "id": "de12056c-ad5a-46b8-a45a-f6d732d3eb4a",
      "metadata": {
        "id": "de12056c-ad5a-46b8-a45a-f6d732d3eb4a"
      },
      "outputs": [],
      "source": [
        "# creamos la función\n",
        "def bfgs(f, grad, x0, tol, H0, maxIter1, r, c1, maxIter2, op=0):\n",
        "    xk = x0\n",
        "    dim = len(xk)\n",
        "    Hk = H0\n",
        "    gk = grad(xk)\n",
        "    identidad = np.identity(dim)\n",
        "    alpha = 1\n",
        "    for k in range(maxIter1):\n",
        "        aux = np.dot(gk, gk)\n",
        "        if np.sqrt(aux) < tol:\n",
        "            return xk, dim, f(xk), np.sqrt(aux), k+1, True\n",
        "        pk = -Hk@gk\n",
        "        aux1 = np.dot(pk, gk)\n",
        "        if aux1 > 0:\n",
        "            l1 = 10e-5 + aux1/aux\n",
        "            Hk = Hk + l1*identidad\n",
        "            pk = pk - l1*gk\n",
        "        aux2 = backtracking(alpha, r, c1, xk, f, grad, pk, maxIter2)\n",
        "        if aux2[-1] == False:\n",
        "            print(\"Backtracking está consumiendo todas las iteraciones.\")\n",
        "        alpha = aux2[0]\n",
        "        xk1 = xk + alpha*pk\n",
        "        gk1 = grad(xk1)\n",
        "        sk = xk1 - xk\n",
        "        yk = gk1 - gk\n",
        "        aux4 = np.dot(yk,yk)\n",
        "        if op==1:\n",
        "          if np.sqrt(aux4) < tol:\n",
        "              print(\"Termina por minima diferencia en gradientes.\")\n",
        "              return xk, dim, f(xk), np.sqrt(aux), k+1, True\n",
        "        aux3 = np.dot(yk, sk)\n",
        "        if aux3 <= 0:\n",
        "            l2 = 10e-5 - aux3/aux4\n",
        "            Hk = Hk + l2*identidad\n",
        "        else:\n",
        "            rho = 1/aux3\n",
        "            Hk = (identidad -rho*(sk@yk.T))@Hk@(identidad -rho*(yk@sk.T)) +rho*(sk@sk.T)\n",
        "        gk = gk1\n",
        "        xk = xk1\n",
        "    return xk, dim, f(xk), np.sqrt(aux), maxIter1, False"
      ]
    },
    {
      "cell_type": "markdown",
      "source": [
        "Notemos que este algoritmo tiene dos condiciones de parada. Esto es porque, haciendo pruebas, en las funciones donde no se logra la convergencia el programa se detiene pues no hay mucha diferencia entre los gradientes.\n",
        "\n",
        "Comenté esto al profesor y me dijo que era una buena opción para esos casos."
      ],
      "metadata": {
        "id": "npy4kCJIl_wA"
      },
      "id": "npy4kCJIl_wA"
    },
    {
      "cell_type": "code",
      "execution_count": 4,
      "id": "d083151a",
      "metadata": {
        "id": "d083151a"
      },
      "outputs": [],
      "source": [
        "def solution(sol):\n",
        "    print(f\"Dimension: {sol[1]}\")\n",
        "    print(f\"¿Terminó por criterio de paro?: {sol[-1]}\")\n",
        "    print(f\"Número de iteraciones realizadas: {sol[-2]}\")\n",
        "    print(\"La solución alcanzada es: \",sol[0][:4],\"...\", sol[0][-4:])\n",
        "    print(f\"f(xk)={sol[2]}\")\n",
        "    print(f\"||Grad_f(xk)||={sol[3]}\")"
      ]
    },
    {
      "cell_type": "code",
      "execution_count": 5,
      "id": "91f89989",
      "metadata": {
        "id": "91f89989"
      },
      "outputs": [],
      "source": [
        "# funciones\n",
        "def quadratic(x, A, b):\n",
        "    return (x.T@(A@x))/2.0 - np.dot(b, x)\n",
        "\n",
        "def Grad_quadratic(x, A, b):\n",
        "    return A@x - b\n",
        "\n",
        "def himmelblau(x):\n",
        "  return (x[0]**2+x[1]-11)**2 + (x[0]+x[1]**2-7)**2\n",
        "\n",
        "def Grad_himmelblau(x):\n",
        "  d1=4*x[0]**3 + 4*x[0]*x[1] - 42*x[0] + 2*x[1]**2 - 14\n",
        "  d2=4*x[1]**3 + 4*x[0]*x[1] + 2*x[0]**2 - 26*x[1] - 22\n",
        "  return np.array([d1,d2])\n",
        "\n",
        "def beale(x):\n",
        "  return (1.5-x[0]+x[1]*x[0])**2 + (2.25-x[0]+x[0]*x[1]**2)**2 + (2.625-x[0]+x[0]*x[1]**3)**2\n",
        "\n",
        "def Grad_beale(x):\n",
        "  d1=2*(x[1]-1)*(1.5-x[0]+x[1]*x[0])+2*(x[1]**2-1)*(2.25-x[0]+x[0]*x[1]**2)+2*(x[1]**3-1)*(2.625-x[0]+x[0]*x[1]**3)\n",
        "  d2=2*(x[0])*(1.5-x[0]+x[1]*x[0])+4*(x[0]*x[1])*(2.25-x[0]+x[0]*x[1]**2)+6*(x[0]*x[1]**2)*(2.625-x[0]+x[0]*x[1]**3)\n",
        "  return np.array([d1, d2])\n",
        "\n",
        "def rosenbrock(x):\n",
        "  f=0\n",
        "  n=x.shape[0]\n",
        "  for i in range(n-1):\n",
        "    f+=100*(x[i+1]-x[i]**2)**2 + (1-x[i])**2\n",
        "  return f\n",
        "\n",
        "def Grad_rosenbrock(x):\n",
        "  n=x.shape[0]\n",
        "  grad=np.zeros(n)\n",
        "  grad[0]=-2*(1-x[0])-400*x[0]*(x[1]-x[0]**2)\n",
        "  grad[-1]=200*(x[-1]-x[-2]**2)\n",
        "  for i in range(1,n-1):\n",
        "    grad[i]=200*(x[i]-x[i-1]**2-2*x[i]*x[i+1]+2*x[i]**3) -2*(1-x[i])\n",
        "  return grad\n",
        "\n",
        "#definimos las funciones para las hessianas\n",
        "def Hes_quadratic(x, A, b):\n",
        "  return A\n",
        "\n",
        "def Hes_himmelbleau(x):\n",
        "  d1=12*(x[0]**2) +4*x[1] -42\n",
        "  d2=4*(x[0]+x[1])\n",
        "  d3=4*x[0] +12*(x[1]**2) -26\n",
        "  return np.array([[d1, d2], [d2, d3]])\n",
        "\n",
        "def Hes_beale(x):\n",
        "  d1=2*(x[1]**6 +x[1]**4 -2*x[1]**3 -x[1]**2 -2*x[1] +3)\n",
        "  d2=4*x[0]*(3*(x[1]**5) +2*(x[1]**3) -3*(x[1]**2) -x[1] -1) +15.75*(x[1]**2) +9*x[1] +3\n",
        "  d3=6*x[0]*(5*x[0]*(x[1]**4 +0.4*(x[1]**2) -0.4*x[1] -0.066666) +5.25*x[1] +1.5)\n",
        "  return np.array([[d1, d2], [d2, d3]])\n",
        "\n",
        "def Hes_rosenbrook(x):\n",
        "  n=len(x)\n",
        "  m=np.zeros([n,n])\n",
        "  m[0][0]=1200*(x[0])**2 - 400*(x[1]) +2\n",
        "  m[n-1][n-1]=200\n",
        "  m[0][1]=m[1][0]=-400*x[0]\n",
        "  m[n-1][n-2]=m[n-2][n-1]=-400*x[n-2]\n",
        "  for i in range(1,n-1):\n",
        "    m[i][i]=200*(6*(x[i]**2)-2*(x[i+1])+1)+2\n",
        "    m[i][i-1]=m[i-1][i]=-400*(x[i-1])\n",
        "    m[i][i+1]=m[i+1][i]=-400*(x[i])\n",
        "  return m"
      ]
    },
    {
      "cell_type": "code",
      "execution_count": 6,
      "id": "5abc89ac",
      "metadata": {
        "id": "5abc89ac"
      },
      "outputs": [],
      "source": [
        "def gen_matrix1(N):\n",
        "    A = np.ones([N,N]) + N*np.eye(N)\n",
        "    b = np.ones(N)\n",
        "    return A, b\n",
        "\n",
        "def gen_matrix2(N):\n",
        "    A = np.zeros([N,N])\n",
        "    for i in range(N):\n",
        "        for j in  range(N):\n",
        "            A[i][j]=np.exp(-0.25*((i-j)**2))\n",
        "    b = np.ones(N)\n",
        "    return A, b\n",
        "\n",
        "eps = np.finfo(float).eps\n",
        "n = [10, 100, 1000]"
      ]
    },
    {
      "cell_type": "code",
      "execution_count": 7,
      "id": "d94b2281",
      "metadata": {
        "id": "d94b2281"
      },
      "outputs": [],
      "source": [
        "# definimos\n",
        "maxIter = 5000\n",
        "rho = 0.5\n",
        "c1 = 0.001\n",
        "maxIter2 = 500"
      ]
    },
    {
      "cell_type": "markdown",
      "source": [
        "Para estas primeras tres pruebas el algorito se comportó bastante bien, por lo que no hubo necesidad de detenerlo antes."
      ],
      "metadata": {
        "id": "9mf5mLDGsoNJ"
      },
      "id": "9mf5mLDGsoNJ"
    },
    {
      "cell_type": "code",
      "execution_count": 8,
      "id": "62e8b445",
      "metadata": {
        "colab": {
          "base_uri": "https://localhost:8080/"
        },
        "id": "62e8b445",
        "outputId": "1b2f9414-50f4-459c-f2d5-f1e02bf47913"
      },
      "outputs": [
        {
          "output_type": "stream",
          "name": "stdout",
          "text": [
            "Dimension: 10\n",
            "¿Terminó por criterio de paro?: True\n",
            "Número de iteraciones realizadas: 7\n",
            "La solución alcanzada es:  [0.04999981 0.04999981 0.04999981 0.04999981] ... [0.04999981 0.04999981 0.04999981 0.04999981]\n",
            "f(xk)=-0.24999999999620595\n",
            "||Grad_f(xk)||=1.23192738174395e-05\n"
          ]
        }
      ],
      "source": [
        "#probemos con la forma cuadratica, y el primer tipo de matriz con la primer dimension\n",
        "A1, b1 = gen_matrix1(n[0])\n",
        "sol1 = bfgs(lambda x: quadratic(x, A1, b1),\n",
        "                           lambda x: Grad_quadratic(x, A1, b1), np.zeros(n[0]), np.sqrt(n[0])*eps**(1/3.0), np.identity(n[0]),\n",
        "                           maxIter, rho, c1, maxIter2)\n",
        "solution(sol1)"
      ]
    },
    {
      "cell_type": "code",
      "execution_count": 9,
      "id": "a1a6d0bc",
      "metadata": {
        "colab": {
          "base_uri": "https://localhost:8080/"
        },
        "id": "a1a6d0bc",
        "outputId": "51ee75a4-f5c0-45ca-fa3e-f02f2ee03caf"
      },
      "outputs": [
        {
          "output_type": "stream",
          "name": "stdout",
          "text": [
            "Dimension: 100\n",
            "¿Terminó por criterio de paro?: True\n",
            "Número de iteraciones realizadas: 15\n",
            "La solución alcanzada es:  [0.005 0.005 0.005 0.005] ... [0.005 0.005 0.005 0.005]\n",
            "f(xk)=-0.24999999999999806\n",
            "||Grad_f(xk)||=8.545396142478624e-07\n"
          ]
        }
      ],
      "source": [
        "A2, b2 = gen_matrix1(n[1])\n",
        "sol2 = bfgs(lambda x: quadratic(x, A2, b2),\n",
        "                           lambda x: Grad_quadratic(x, A2, b2), np.zeros(n[1]), np.sqrt(n[1])*eps**(1/3.0), np.identity(n[1]),\n",
        "                           maxIter, rho, c1, maxIter2)\n",
        "solution(sol2)"
      ]
    },
    {
      "cell_type": "code",
      "execution_count": 10,
      "id": "d89926c2",
      "metadata": {
        "colab": {
          "base_uri": "https://localhost:8080/"
        },
        "id": "d89926c2",
        "outputId": "8f518802-4e0b-4983-d70c-6b37f9986cb0"
      },
      "outputs": [
        {
          "output_type": "stream",
          "name": "stdout",
          "text": [
            "Dimension: 1000\n",
            "¿Terminó por criterio de paro?: True\n",
            "Número de iteraciones realizadas: 14\n",
            "La solución alcanzada es:  [0.0005 0.0005 0.0005 0.0005] ... [0.0005 0.0005 0.0005 0.0005]\n",
            "f(xk)=-0.2499999999964131\n",
            "||Grad_f(xk)||=0.00011978754768550113\n"
          ]
        }
      ],
      "source": [
        "A3, b3 = gen_matrix1(n[2])\n",
        "sol3 = bfgs(lambda x: quadratic(x, A3, b3),\n",
        "                           lambda x: Grad_quadratic(x, A3, b3), np.zeros(n[2]), np.sqrt(n[2])*eps**(1/3.0), np.identity(n[2]),\n",
        "                           maxIter, rho, c1, maxIter2)\n",
        "solution(sol3)"
      ]
    },
    {
      "cell_type": "markdown",
      "source": [
        "En el caso de las siguientes tres pruebas, se notó un comportamiento más erróneo, por lo que se optó por repetir las pruebas con la segunda condición de parada, obteniendo así los siguientes resultados."
      ],
      "metadata": {
        "id": "-U2JG36hszWD"
      },
      "id": "-U2JG36hszWD"
    },
    {
      "cell_type": "code",
      "execution_count": 11,
      "id": "b4458180",
      "metadata": {
        "colab": {
          "base_uri": "https://localhost:8080/"
        },
        "id": "b4458180",
        "outputId": "8cb647a9-d207-493f-a153-27836ed72ca3"
      },
      "outputs": [
        {
          "output_type": "stream",
          "name": "stdout",
          "text": [
            "Termina por minima diferencia en gradientes.\n",
            "Dimension: 10\n",
            "¿Terminó por criterio de paro?: True\n",
            "Número de iteraciones realizadas: 9\n",
            "La solución alcanzada es:  [0.31814968 0.3166137  0.31588823 0.31568043] ... [0.31568043 0.31588823 0.3166137  0.31814968]\n",
            "f(xk)=-1.5826919885257107\n",
            "||Grad_f(xk)||=0.4747196086440705\n"
          ]
        }
      ],
      "source": [
        "A4, b4 = gen_matrix2(n[0])\n",
        "sol4 = bfgs(lambda x: quadratic(x, A4, b4),\n",
        "                           lambda x: Grad_quadratic(x, A4, b4), np.zeros(n[0]), np.sqrt(n[0])*eps**(1/3.0), np.identity(n[0]),\n",
        "                           maxIter, rho, c1, maxIter2, 1)\n",
        "solution(sol4)"
      ]
    },
    {
      "cell_type": "code",
      "execution_count": 12,
      "id": "3688ac35",
      "metadata": {
        "colab": {
          "base_uri": "https://localhost:8080/"
        },
        "id": "3688ac35",
        "outputId": "770e042d-2266-44f8-b072-36c493f8fb27"
      },
      "outputs": [
        {
          "output_type": "stream",
          "name": "stdout",
          "text": [
            "Termina por minima diferencia en gradientes.\n",
            "Dimension: 100\n",
            "¿Terminó por criterio de paro?: True\n",
            "Número de iteraciones realizadas: 11\n",
            "La solución alcanzada es:  [0.28519274 0.28518085 0.28517524 0.28517363] ... [0.28517363 0.28517524 0.28518085 0.28519274]\n",
            "f(xk)=-14.258765641266509\n",
            "||Grad_f(xk)||=0.5418980315603407\n"
          ]
        }
      ],
      "source": [
        "A5, b5 = gen_matrix2(n[1])\n",
        "sol5 = bfgs(lambda x: quadratic(x, A5, b5),\n",
        "                           lambda x: Grad_quadratic(x, A5, b5), np.zeros(n[1]), np.sqrt(n[1])*eps**(1/3.0), np.identity(n[1]),\n",
        "                           maxIter, rho, c1, maxIter2, 1)\n",
        "solution(sol5)"
      ]
    },
    {
      "cell_type": "code",
      "execution_count": 13,
      "id": "18430ccb",
      "metadata": {
        "colab": {
          "base_uri": "https://localhost:8080/"
        },
        "id": "18430ccb",
        "outputId": "4482c502-4574-4974-c300-2dcce0507b47"
      },
      "outputs": [
        {
          "output_type": "stream",
          "name": "stdout",
          "text": [
            "Termina por minima diferencia en gradientes.\n",
            "Dimension: 1000\n",
            "¿Terminó por criterio de paro?: True\n",
            "Número de iteraciones realizadas: 12\n",
            "La solución alcanzada es:  [0.2824015  0.28240131 0.28240122 0.2824012 ] ... [0.2824012  0.28240122 0.28240131 0.2824015 ]\n",
            "f(xk)=-141.19990771950984\n",
            "||Grad_f(xk)||=0.5463912538293857\n"
          ]
        }
      ],
      "source": [
        "A6, b6 = gen_matrix2(n[2])\n",
        "sol6 = bfgs(lambda x: quadratic(x, A6, b6),\n",
        "                           lambda x: Grad_quadratic(x, A6, b6), np.zeros(n[2]), np.sqrt(n[2])*eps**(1/3.0), np.identity(n[2]),\n",
        "                           maxIter, rho, c1, maxIter2, 1)\n",
        "solution(sol6)"
      ]
    },
    {
      "cell_type": "markdown",
      "source": [
        "Para la siguiente función, aunque parece que va en dirección correcta, el algoritmo requiere de todas las iteraciones, mientras que, si lo detenemos antes obtenemos resultados muy similares."
      ],
      "metadata": {
        "id": "H0lWytskter2"
      },
      "id": "H0lWytskter2"
    },
    {
      "cell_type": "code",
      "execution_count": 21,
      "id": "dd77b891",
      "metadata": {
        "id": "dd77b891",
        "outputId": "3c3c283b-39cc-4f61-f456-cf52ef48e22a",
        "colab": {
          "base_uri": "https://localhost:8080/"
        }
      },
      "outputs": [
        {
          "output_type": "stream",
          "name": "stdout",
          "text": [
            "Termina por minima diferencia en gradientes.\n",
            "Dimension: 2\n",
            "¿Terminó por criterio de paro?: True\n",
            "Número de iteraciones realizadas: 1641\n",
            "La solución alcanzada es:  [2.78720363 0.44643978] ... [2.78720363 0.44643978]\n",
            "f(xk)=0.0095359447971511\n",
            "||Grad_f(xk)||=0.19531893762814545\n"
          ]
        }
      ],
      "source": [
        "x07 = np.array([2,3])\n",
        "sol7 = bfgs(beale, Grad_beale, x07, np.sqrt(2)*eps**(1/3.0), np.identity(2), maxIter, rho, c1, maxIter2,1)\n",
        "solution(sol7)"
      ]
    },
    {
      "cell_type": "code",
      "execution_count": 15,
      "id": "8fac4f7c",
      "metadata": {
        "id": "8fac4f7c",
        "outputId": "e79541e8-5989-4659-a550-09ce2d635ae2",
        "colab": {
          "base_uri": "https://localhost:8080/"
        }
      },
      "outputs": [
        {
          "output_type": "stream",
          "name": "stdout",
          "text": [
            "Dimension: 2\n",
            "¿Terminó por criterio de paro?: True\n",
            "Número de iteraciones realizadas: 49\n",
            "La solución alcanzada es:  [ 3.58442828 -1.84812629] ... [ 3.58442828 -1.84812629]\n",
            "f(xk)=8.923152878209255e-13\n",
            "||Grad_f(xk)||=8.017085485218569e-06\n"
          ]
        }
      ],
      "source": [
        "x08 = np.array([2,4])\n",
        "sol8 = bfgs(himmelblau, Grad_himmelblau, x08, np.sqrt(2)*eps**(1/3.0), np.identity(2), maxIter, rho, c1, maxIter2)\n",
        "solution(sol8)"
      ]
    },
    {
      "cell_type": "markdown",
      "source": [
        "Nuevamente, para las siguientes funciones notamos que el algoritmo no se comporta como se esperaría, por lo que se decidió aplicarle la segunda condición de parada."
      ],
      "metadata": {
        "id": "oOmkpxmutvLm"
      },
      "id": "oOmkpxmutvLm"
    },
    {
      "cell_type": "code",
      "execution_count": 16,
      "id": "5eceb18d",
      "metadata": {
        "id": "5eceb18d",
        "outputId": "3be5e94f-b3cd-4741-f262-6dc416d914c0",
        "colab": {
          "base_uri": "https://localhost:8080/"
        }
      },
      "outputs": [
        {
          "output_type": "stream",
          "name": "stdout",
          "text": [
            "Termina por minima diferencia en gradientes.\n",
            "Dimension: 2\n",
            "¿Terminó por criterio de paro?: True\n",
            "Número de iteraciones realizadas: 3119\n",
            "La solución alcanzada es:  [0.98462224 0.96932545] ... [0.98462224 0.96932545]\n",
            "f(xk)=0.00023889360966725134\n",
            "||Grad_f(xk)||=0.04355312127970876\n"
          ]
        }
      ],
      "source": [
        "x09 = np.array([-1.2,1])\n",
        "sol9 = bfgs(rosenbrock, Grad_rosenbrock, x09, np.sqrt(2)*eps**(1/3.0), np.identity(2), maxIter, rho, c1, maxIter2, 1)\n",
        "solution(sol9)"
      ]
    },
    {
      "cell_type": "code",
      "execution_count": 17,
      "id": "63164273",
      "metadata": {
        "colab": {
          "base_uri": "https://localhost:8080/"
        },
        "id": "63164273",
        "outputId": "af611d35-6665-4d16-ef5e-c82091df8878"
      },
      "outputs": [
        {
          "output_type": "stream",
          "name": "stdout",
          "text": [
            "Termina por minima diferencia en gradientes.\n",
            "Dimension: 20\n",
            "¿Terminó por criterio de paro?: True\n",
            "Número de iteraciones realizadas: 25\n",
            "La solución alcanzada es:  [-0.57248342 -0.34107367  0.28432752 -0.34199027] ... [ 0.28432752 -0.34199027  0.28475691  1.37373926]\n",
            "f(xk)=403.3903607327578\n",
            "||Grad_f(xk)||=449.3534870990205\n"
          ]
        }
      ],
      "source": [
        "x010 = np.ones(20)\n",
        "for i in range(0, 20, 2):\n",
        "    x010[i] = -1.2\n",
        "sol10 = bfgs(rosenbrock, Grad_rosenbrock, x010, np.sqrt(20)*eps**(1/3.0), np.identity(20), maxIter, rho, c1, maxIter2, 1)\n",
        "solution(sol10)"
      ]
    },
    {
      "cell_type": "code",
      "execution_count": 18,
      "id": "94d4b06b",
      "metadata": {
        "colab": {
          "base_uri": "https://localhost:8080/"
        },
        "id": "94d4b06b",
        "outputId": "44ec48d2-5d94-4072-8f4e-a0b8d79f2370"
      },
      "outputs": [
        {
          "output_type": "stream",
          "name": "stdout",
          "text": [
            "Termina por minima diferencia en gradientes.\n",
            "Dimension: 40\n",
            "¿Terminó por criterio de paro?: True\n",
            "Número de iteraciones realizadas: 18\n",
            "La solución alcanzada es:  [-0.58504024 -0.35316419  0.27369498 -0.35339319] ... [ 0.27369498 -0.35339319  0.27380096  1.36460346]\n",
            "f(xk)=634.2938734049781\n",
            "||Grad_f(xk)||=552.067047985407\n"
          ]
        }
      ],
      "source": [
        "x011 = np.ones(40)\n",
        "for i in range(0, 40, 2):\n",
        "    x011[i] = -1.2\n",
        "sol11 = bfgs(rosenbrock, Grad_rosenbrock, x011, np.sqrt(40)*eps**(1/3.0), np.identity(40), maxIter, rho, c1, maxIter2, 1)\n",
        "solution(sol11)"
      ]
    },
    {
      "cell_type": "markdown",
      "id": "acb2cbe9-f335-4e8c-8067-22787ac06289",
      "metadata": {
        "id": "acb2cbe9-f335-4e8c-8067-22787ac06289"
      },
      "source": [
        "```\n",
        "\n",
        "\n",
        "\n",
        "\n",
        "\n",
        "\n",
        "```"
      ]
    }
  ],
  "metadata": {
    "colab": {
      "provenance": []
    },
    "kernelspec": {
      "display_name": "Python 3 (ipykernel)",
      "language": "python",
      "name": "python3"
    },
    "language_info": {
      "codemirror_mode": {
        "name": "ipython",
        "version": 3
      },
      "file_extension": ".py",
      "mimetype": "text/x-python",
      "name": "python",
      "nbconvert_exporter": "python",
      "pygments_lexer": "ipython3",
      "version": "3.12.1"
    }
  },
  "nbformat": 4,
  "nbformat_minor": 5
}